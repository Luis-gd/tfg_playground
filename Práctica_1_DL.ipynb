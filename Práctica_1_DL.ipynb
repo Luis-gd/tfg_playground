{
 "cells": [
  {
   "cell_type": "markdown",
   "metadata": {},
   "source": [
    "# Práctica 1\n",
    "# Perceptrón multicapa con Keras\n",
    "\n",
    "José Luis Ruiz Reina <br> Fernando Sancho Caparrini <br> Miguel A. Martínez del Amor <br>Miguel A. Gutiérrez Naranjo\n",
    "\n",
    "_Versión del 29 de marzo de 2020_"
   ]
  },
  {
   "cell_type": "markdown",
   "metadata": {},
   "source": [
    " En esta práctica vamos a realizar algunos ejercicios simples con perceptrones multicapa (MLP) que nos van a servir de introducción al entorno de trabajo de Deep Learning con keras. Algunas consideraciones previas:\n",
    " \n",
    " * Se recomienda usar Anaconda y crear un entorno (environment) diferente para cada proyecto\n",
    " * En particular, se recomienda crea un entorno para usar tensorflow 1.x y otro para tensorflow 2.x\n",
    " * Si se dispone de un GPU local, se puede instalar keras con el comando 'conda install -c anaconda keras-gpu'\n",
    " * En otro caso, se puede subir este archivo a Google Drive y ejecutarlo cpn Google Colab."
   ]
  },
  {
   "cell_type": "markdown",
   "metadata": {},
   "source": [
    "*Keras* es una biblioteca Python que proporciona una interfaz para trabajar de manera cómoda y eficiente con redes neuronales y *Deep Learning* en general. El sistema *Keras* proporciona la interfaz a diversos sistemas Python especializados en Deep Learning, como *Tensorflow*, *Theano* o *CNTK*. En la actualidad podemos decir que es, junto con *Pytorch*, la interfaz más comúnmente usada para el desarrollo de aplicaciones que usan Deep Learning. \n",
    "\n",
    "En este cuaderno, veremos una muy breve introducción al uso de *Keras* para trabajar con redes neuronales multicapa, teniendo a *Tensorflow* como *backend*. *Tensorflow* es una biblioteca para Deep Learning, desarrollada por Google desde 2017, que permite construir y entrenar modelo basados en redes neuronales de manera muy eficiente. *Keras* nos proporciona una interfaz a *Tensorflow* de más alto nivel que si operáramos directamente con los métodos y estructuras de datos de *Tensorflow*.    "
   ]
  },
  {
   "cell_type": "markdown",
   "metadata": {},
   "source": [
    "En Keras hay dos modos de representar las redes\n",
    "* Secuential API\n",
    "* Functional API\n",
    "\n",
    "Empezamos con un experimento de Secuential API. Al final de la práctica veremos uno con la API funcional."
   ]
  },
  {
   "cell_type": "code",
   "execution_count": 1,
   "metadata": {},
   "outputs": [],
   "source": [
    "# Este trozo de código no es necesario\n",
    "# pero sirve para evitar los warnings\n",
    "\n",
    "from warnings import simplefilter\n",
    "simplefilter(action = 'ignore',category = FutureWarning )\n",
    "\n",
    "import os\n",
    "os.environ['TF_CPP_MIN_LOG_LEVEL'] = '3'\n",
    "\n",
    "import tensorflow as tf\n",
    "tf.logging.set_verbosity(tf.logging.ERROR)\n",
    "tf.compat.v1.logging.set_verbosity(tf.compat.v1.logging.ERROR)"
   ]
  },
  {
   "cell_type": "markdown",
   "metadata": {},
   "source": [
    "# Experimento 1"
   ]
  },
  {
   "cell_type": "markdown",
   "metadata": {},
   "source": [
    "Este experimento está principamente basado en un ejemplo del capítulo 10 del libro:\n",
    " \n",
    "**Hands-On Machine Learning with Scikit-Learn, Keras, and TensorFlow, 2nd Edition**   \n",
    "_Aurélien Géron_   \n",
    "O'Reilly Media, Inc. 2019   "
   ]
  },
  {
   "cell_type": "code",
   "execution_count": 2,
   "metadata": {},
   "outputs": [
    {
     "name": "stderr",
     "output_type": "stream",
     "text": [
      "Using TensorFlow backend.\n"
     ]
    }
   ],
   "source": [
    "import numpy as np\n",
    "import keras"
   ]
  },
  {
   "cell_type": "code",
   "execution_count": 3,
   "metadata": {},
   "outputs": [
    {
     "data": {
      "text/plain": [
       "'2.2.4'"
      ]
     },
     "execution_count": 3,
     "metadata": {},
     "output_type": "execute_result"
    }
   ],
   "source": [
    "# Comprobamos qué versión de keras estamos usando\n",
    "keras.__version__"
   ]
  },
  {
   "cell_type": "code",
   "execution_count": 4,
   "metadata": {},
   "outputs": [
    {
     "data": {
      "text/plain": [
       "'1.14.0'"
      ]
     },
     "execution_count": 4,
     "metadata": {},
     "output_type": "execute_result"
    }
   ],
   "source": [
    "# También podemos comprobar qué versión de tensorflow estamos usando\n",
    "tf.__version__"
   ]
  },
  {
   "cell_type": "markdown",
   "metadata": {},
   "source": [
    "El conjunto de datos que vamos a tratar es *Fashion MNIST*, consistente en 70000 imágenes de distintos tipos de calzado y ropa, clasificados en 10 posibles clases. Las imágenes tienen un tamaño de 28x28 pixeles, cada uno de ellos codificado en escala de grises (de 0 a 255). Puedes tener más información de este conjunto de datos en https://github.com/zalandoresearch/fashion-mnist\n",
    "\n",
    "\n",
    "\n",
    "\n",
    "En *Keras* tenemos una herramienta para cargar las imágenes directamente, con 60000 imágenes como conjunto de entrenamiento y 10000 en el conjunto de test:\n"
   ]
  },
  {
   "cell_type": "code",
   "execution_count": 5,
   "metadata": {},
   "outputs": [],
   "source": [
    "fashion_mnist = keras.datasets.fashion_mnist\n",
    "(X_train_full_fashion, y_train_full_fashion), (X_test_fashion, y_test_fashion) = fashion_mnist.load_data()"
   ]
  },
  {
   "cell_type": "markdown",
   "metadata": {},
   "source": [
    "Para poder tratar este conjunto de datos con redes neuronales, debemos tener en cuenta el formato de los datos:\n",
    "* Cada ejemplo es bidimensional (28x28). \n",
    "* Las intensidades de los píxeles vienen dadas por números enteros.  "
   ]
  },
  {
   "cell_type": "code",
   "execution_count": 6,
   "metadata": {},
   "outputs": [
    {
     "name": "stdout",
     "output_type": "stream",
     "text": [
      "(60000, 28, 28)\n",
      "(10000, 28, 28)\n",
      "(60000,)\n",
      "(10000,)\n"
     ]
    }
   ],
   "source": [
    "# El conjunto X_train_full es un tensor. Puedes imaginártelo como la superposición de \n",
    "# 60000 matrices 28 x 28, \n",
    "# donde en cada matriz, cada número representa la intensidad del píxel \n",
    "\n",
    "print(X_train_full_fashion.shape)\n",
    "print(X_test_fashion.shape)\n",
    "print(y_train_full_fashion.shape)\n",
    "print(y_test_fashion.shape)"
   ]
  },
  {
   "cell_type": "code",
   "execution_count": 7,
   "metadata": {},
   "outputs": [
    {
     "data": {
      "text/plain": [
       "dtype('uint8')"
      ]
     },
     "execution_count": 7,
     "metadata": {},
     "output_type": "execute_result"
    }
   ],
   "source": [
    "# Podemos ver que el tipo de dato (dtype) es \"unsigned integer 8-bits\"\n",
    "X_train_full_fashion.dtype"
   ]
  },
  {
   "cell_type": "markdown",
   "metadata": {},
   "source": [
    "En el desarrollo de este ejemplo, como ya veremos,  nos será util tener un conjunto de validación. Este conjunto de validación puede verse como una porción del conjunto de entrenamiento sobre la que vamos a tomar medidas durante el proceso de entrenamiento. Nos quedamos con 55000 ejemplos en el conjunto de entrenamiento y 5000 para validación. Además, vamos a normalizar la intensidad de gris a un número entre 0 y 1, dividiendo por 255:   "
   ]
  },
  {
   "cell_type": "code",
   "execution_count": 8,
   "metadata": {},
   "outputs": [],
   "source": [
    "X_valid_fashion, X_train_fashion = X_train_full_fashion[:5000] / 255., X_train_full_fashion[5000:] / 255.\n",
    "y_valid_fashion, y_train_fashion = y_train_full_fashion[:5000], y_train_full_fashion[5000:]\n",
    "X_test_fashion = X_test_fashion / 255."
   ]
  },
  {
   "cell_type": "markdown",
   "metadata": {},
   "source": [
    "Veamos una imagen en concreto, para hacernos una idea. "
   ]
  },
  {
   "cell_type": "code",
   "execution_count": 9,
   "metadata": {},
   "outputs": [],
   "source": [
    "import matplotlib.pyplot as plt"
   ]
  },
  {
   "cell_type": "code",
   "execution_count": 10,
   "metadata": {},
   "outputs": [
    {
     "data": {
      "image/png": "[encoded data removed]",
      "text/plain": [
       "<Figure size 432x288 with 1 Axes>"
      ]
     },
     "metadata": {
      "needs_background": "light"
     },
     "output_type": "display_data"
    }
   ],
   "source": [
    "plt.imshow(X_train_fashion[0], cmap=\"binary\")\n",
    "plt.axis('off')\n",
    "plt.show()"
   ]
  },
  {
   "cell_type": "markdown",
   "metadata": {},
   "source": [
    "Las clases se codifican de 0 a 9, correspondiendo cada dígito a una de las clases que aparecen a continuación: "
   ]
  },
  {
   "cell_type": "code",
   "execution_count": 11,
   "metadata": {},
   "outputs": [
    {
     "data": {
      "text/plain": [
       "array([4, 0, 7, ..., 3, 0, 5], dtype=uint8)"
      ]
     },
     "execution_count": 11,
     "metadata": {},
     "output_type": "execute_result"
    }
   ],
   "source": [
    "y_train_fashion"
   ]
  },
  {
   "cell_type": "code",
   "execution_count": 12,
   "metadata": {},
   "outputs": [
    {
     "data": {
      "text/plain": [
       "4"
      ]
     },
     "execution_count": 12,
     "metadata": {},
     "output_type": "execute_result"
    }
   ],
   "source": [
    "y_train_fashion[0]"
   ]
  },
  {
   "cell_type": "code",
   "execution_count": 13,
   "metadata": {},
   "outputs": [],
   "source": [
    "# Definimos el nombre que le queremos dara a cada uno de esos valores de clasificación (en castellano)\n",
    "\n",
    "class_names = [\"Camiseta\", \"Pantalón\", \"Chaleco\", \"Traje\", \"Abrigo\",\n",
    "               \"Sandalia\", \"Camisa\", \"Zapatilla\", \"Bolso\", \"Botas\"]"
   ]
  },
  {
   "cell_type": "markdown",
   "metadata": {},
   "source": [
    "Podemos probar con varias imágenes"
   ]
  },
  {
   "cell_type": "code",
   "execution_count": 14,
   "metadata": {},
   "outputs": [
    {
     "name": "stdout",
     "output_type": "stream",
     "text": [
      "La clase de la imagen 59 es 0 y es Camiseta\n"
     ]
    },
    {
     "data": {
      "image/png": "[encoded data removed]",
      "text/plain": [
       "<Figure size 432x288 with 1 Axes>"
      ]
     },
     "metadata": {
      "needs_background": "light"
     },
     "output_type": "display_data"
    }
   ],
   "source": [
    "n_im = 59\n",
    "\n",
    "print('La clase de la imagen',n_im,'es',y_train_fashion[n_im],'y es',class_names[y_train_fashion[n_im]])\n",
    "\n",
    "plt.imshow(X_train_fashion[n_im], cmap=\"binary\")\n",
    "plt.axis('off')\n",
    "plt.show()"
   ]
  },
  {
   "cell_type": "markdown",
   "metadata": {},
   "source": [
    "Con el siguiente código podemos ver una pequeña muestra de las imágenes de las que consta el conjunto de datos:"
   ]
  },
  {
   "cell_type": "code",
   "execution_count": 15,
   "metadata": {},
   "outputs": [
    {
     "data": {
      "image/png": "[encoded data removed]",
      "text/plain": [
       "<Figure size 864x345.6 with 40 Axes>"
      ]
     },
     "metadata": {
      "needs_background": "light"
     },
     "output_type": "display_data"
    }
   ],
   "source": [
    "n_rows = 4\n",
    "n_cols = 10\n",
    "plt.figure(figsize=(n_cols * 1.2, n_rows * 1.2))\n",
    "for row in range(n_rows):\n",
    "    for col in range(n_cols):\n",
    "        index = n_cols * row + col\n",
    "        plt.subplot(n_rows, n_cols, index + 1)\n",
    "        plt.imshow(X_train_fashion[index], cmap=\"binary\", interpolation=\"nearest\")\n",
    "        plt.axis('off')\n",
    "        plt.title(class_names[y_train_fashion[index]], fontsize=12)\n",
    "plt.subplots_adjust(wspace=0.2, hspace=0.5)\n",
    "plt.show()"
   ]
  },
  {
   "cell_type": "markdown",
   "metadata": {},
   "source": [
    "Vamos a construir una red neuronal usando el módulo `Sequential` (tambén conocido como `Sequential` API). Para ello, simplemente añadimos capas (*layers*), indicando el tipo, el número de unidades y la función de activación: "
   ]
  },
  {
   "cell_type": "code",
   "execution_count": 16,
   "metadata": {},
   "outputs": [],
   "source": [
    "model_fashion = keras.models.Sequential()\n",
    "model_fashion.add(keras.layers.Flatten(input_shape=[28, 28]))\n",
    "model_fashion.add(keras.layers.Dense(300, activation=\"relu\"))\n",
    "model_fashion.add(keras.layers.Dense(100, activation=\"relu\"))\n",
    "model_fashion.add(keras.layers.Dense(10, activation=\"softmax\"))\n",
    "\n",
    "# Una manera alternativa de crear esta misma red sería:\n",
    "#model_fashion = keras.models.Sequential([\n",
    "#    keras.layers.Flatten(input_shape=[28, 28]),\n",
    "#    keras.layers.Dense(300, activation=\"relu\"),\n",
    "#    keras.layers.Dense(100, activation=\"relu\"),\n",
    "#    keras.layers.Dense(10, activation=\"softmax\")\n",
    "#])"
   ]
  },
  {
   "cell_type": "markdown",
   "metadata": {},
   "source": [
    "Comentemos en más detalles cada una de las capas:\n",
    "\n",
    "* La primera capa (la de entrada), es una capa de tipo `Flatten` que nos va a servir para \"aplana\" los ejemplos bidimensionales (28x28) en ejemplos unidimensionales (784). Esta capa se limita a realizar un `X.reshape(-1,1)` a cada ejemplo `X` de entrada. Podemos considerar por tanto que tenemos 784 unidades en la capa de entrada. \n",
    "* Las dos capas siguientes son de tipo `Dense`, una con 300 unidades y la siguiente con 100 unidades, con función de activación ReLU. Cada unidad en una capa de tipo `Dense` recibe tantas conexiones como unidades en la capa anterior, más un sesgo. \n",
    "* En la útima capa (la de salida), tenemos 10 unidades (una por valor de clasificación), con función de activación softmax. Por tanto, debemos interpretar la salida de cada unidad como la probabilidad de pertenecer a la correspondiente clase.    "
   ]
  },
  {
   "cell_type": "markdown",
   "metadata": {},
   "source": [
    "Una vez construido el modelo, el atributo `layers` será una lista con las correspondientes capas. Sin embargo, si consultamos su valor lo que obtenemos por pantalla no sirve de mucho. Es mejor usar `summary`:"
   ]
  },
  {
   "cell_type": "code",
   "execution_count": 17,
   "metadata": {},
   "outputs": [
    {
     "data": {
      "text/plain": [
       "[<keras.layers.core.Flatten at 0x7f7803b35f90>,\n",
       " <keras.layers.core.Dense at 0x7f781eeaf5d0>,\n",
       " <keras.layers.core.Dense at 0x7f781ee01a10>,\n",
       " <keras.layers.core.Dense at 0x7f7803b46cd0>]"
      ]
     },
     "execution_count": 17,
     "metadata": {},
     "output_type": "execute_result"
    }
   ],
   "source": [
    "model_fashion.layers"
   ]
  },
  {
   "cell_type": "code",
   "execution_count": 18,
   "metadata": {},
   "outputs": [
    {
     "name": "stdout",
     "output_type": "stream",
     "text": [
      "_________________________________________________________________\n",
      "Layer (type)                 Output Shape              Param #   \n",
      "=================================================================\n",
      "flatten_1 (Flatten)          (None, 784)               0         \n",
      "_________________________________________________________________\n",
      "dense_1 (Dense)              (None, 300)               235500    \n",
      "_________________________________________________________________\n",
      "dense_2 (Dense)              (None, 100)               30100     \n",
      "_________________________________________________________________\n",
      "dense_3 (Dense)              (None, 10)                1010      \n",
      "=================================================================\n",
      "Total params: 266,610\n",
      "Trainable params: 266,610\n",
      "Non-trainable params: 0\n",
      "_________________________________________________________________\n"
     ]
    }
   ],
   "source": [
    "model_fashion.summary()"
   ]
  },
  {
   "cell_type": "markdown",
   "metadata": {},
   "source": [
    "Para cada capa, se nos muestra:\n",
    "\n",
    "* El tipo de la capa (flatten y densas, en este caso).\n",
    "* El número de unidades de salida de cada capa (aquí `None` significa que puede recibir un número indeterminadao de ejemplos. salida de cada capa)\n",
    "* El número de _parámetros_. Aquí por parámetro entendemos tanto pesos como sesgos. Veamos por qué tenemos esa cantidad de parámetros en cada capa:\n",
    "   - La capa de entrada, por definición, no tiene parámetros (sólo se encarga de recoger los datos de entrada).\n",
    "   - La primera capa oculta tiene 300 unidades y cada una recibe 784 conexiones y además hay que sumar los 300 sesgos: $300x784+300=235500$\n",
    "   - La siguiente capa oculta es de 100 unidades. Por tanto son $300x100+100=30100$ parámetros\n",
    "   - Por último, la capa de salida tiene $100x10+10=1010$ \n",
    "   \n",
    "En total son 266610 parametros, una cantidad considerable si la comparamos con los modelos que hemos vsto hasta ahora. "
   ]
  },
  {
   "cell_type": "markdown",
   "metadata": {},
   "source": [
    "Podemos explorar los pesos iniciales y los sesgos, mediante `get_weights`. Por ejemplo, de la primera capa oculta (`layers[1]`) obtenemos los arrays de pesos y bias:"
   ]
  },
  {
   "cell_type": "code",
   "execution_count": 19,
   "metadata": {},
   "outputs": [],
   "source": [
    "[weights1, biases1] = model_fashion.layers[1].get_weights()"
   ]
  },
  {
   "cell_type": "markdown",
   "metadata": {},
   "source": [
    "Podemos ver el tamaño de cada uno de estos arrays:"
   ]
  },
  {
   "cell_type": "code",
   "execution_count": 20,
   "metadata": {},
   "outputs": [
    {
     "data": {
      "text/plain": [
       "((784, 300), (300,))"
      ]
     },
     "execution_count": 20,
     "metadata": {},
     "output_type": "execute_result"
    }
   ],
   "source": [
    "weights1.shape, biases1.shape"
   ]
  },
  {
   "cell_type": "markdown",
   "metadata": {},
   "source": [
    "Podemos verlo con la segunda capa oculta y la de salida"
   ]
  },
  {
   "cell_type": "code",
   "execution_count": 21,
   "metadata": {},
   "outputs": [
    {
     "name": "stdout",
     "output_type": "stream",
     "text": [
      "La matiz de pesos de la segunda capa oculta tiene dim (300, 100) y pesos (100,)\n",
      "La matiz de pesos de la capa de salida tiene dim (100, 10) y pesos (10,)\n"
     ]
    }
   ],
   "source": [
    "[weights2, biases2] = model_fashion.layers[2].get_weights()\n",
    "[weights3, biases3] = model_fashion.layers[3].get_weights()\n",
    "\n",
    "print('La matiz de pesos de la segunda capa oculta tiene dim',weights2.shape,'y pesos',biases2.shape)\n",
    "print('La matiz de pesos de la capa de salida tiene dim',weights3.shape,'y pesos',biases3.shape)"
   ]
  },
  {
   "cell_type": "markdown",
   "metadata": {},
   "source": [
    "Como hemos visto, la _matriz de pesos_ de cada capa tiene tantas filas como unidades tiene la capa anterior y tantas columnas como unidades tiene la propia capa. En el caso de la primera capa oculta 784 filas y 300 columnas. Es decir, cada fila se corresponde con los coeficientes de las conexiones de una unidad. Además, la matriz (unidimensional) de sesgos tiene tantos elementos como unidades tiene la capa (300 en este caso). "
   ]
  },
  {
   "cell_type": "markdown",
   "metadata": {},
   "source": [
    "Una vez hemos creado el modelo, vamos a pensar en el entrenamiento de la red. Para ello debemos indicar tres aspectos fundamentales:\n",
    "\n",
    "* La función de pérdida, coste o `loss`. En este caso, usamos `sparse_categorical_crossentropy`, la más indicada cuando tenemos varias clases mutuamente excluyentes donde cada clase se representa con un dígito, como es este caso. El objetivo, por tanto, es encontrar los pesos que minimizan la entropía cruzada.\n",
    "* El optimizador (`optimizer`), que es el método para buscar los pesos adecuados. En este caso, descenso estocástico por el gradiente, `sgd`.\n",
    "* La métrica (`metrics`) que nos permitirá medir el rendimiento del modelo, tanto sobre el conjunto de entrenamiento como sobre los de validación y test. En este caso, usamos `accuracy`, que mide el porcentaje de aciertos en la clasificación que realiza el modelo. \n",
    "\n",
    "El método `compile` nos permite especificar estas tres cosas:\n"
   ]
  },
  {
   "cell_type": "code",
   "execution_count": 22,
   "metadata": {},
   "outputs": [],
   "source": [
    "model_fashion.compile(loss=\"sparse_categorical_crossentropy\",\n",
    "              optimizer=\"sgd\",\n",
    "              metrics=[\"accuracy\"])"
   ]
  },
  {
   "cell_type": "markdown",
   "metadata": {},
   "source": [
    "*Nota:* Podemos representar las etiquetas con la codificación one-hot y usar como función loss la \"categorical_crossentropy\" o podemos mantener las etiquetas representadas como enteros y usar la \"sparse_categorical_crossentropy\"."
   ]
  },
  {
   "cell_type": "markdown",
   "metadata": {},
   "source": [
    "Ahora ya podemos entrenar el modelo, lo cual tomará algún tiempo. El método `fit` recibe el conjunto de entrenamiento, el número de _epochs_ y opcionalmente un conjunto de validación para ir midiendo el rendimiento durante el proceso. En cada epoch, se van a ir imprimiendo una serie de estadísticas, que comentamos más adelante. Las estadísticas del proceso de entrenamiento las guardaremos también en la variable `history`. "
   ]
  },
  {
   "cell_type": "code",
   "execution_count": 23,
   "metadata": {},
   "outputs": [
    {
     "name": "stdout",
     "output_type": "stream",
     "text": [
      "Train on 55000 samples, validate on 5000 samples\n",
      "Epoch 1/30\n",
      "55000/55000 [==============================] - 7s 125us/step - loss: 0.7146 - acc: 0.7645 - val_loss: 0.5327 - val_acc: 0.8186\n",
      "Epoch 2/30\n",
      "55000/55000 [==============================] - 7s 123us/step - loss: 0.4877 - acc: 0.8296 - val_loss: 0.4811 - val_acc: 0.8328\n",
      "Epoch 3/30\n",
      "55000/55000 [==============================] - 6s 115us/step - loss: 0.4421 - acc: 0.8464 - val_loss: 0.4244 - val_acc: 0.8534\n",
      "Epoch 4/30\n",
      "55000/55000 [==============================] - 7s 119us/step - loss: 0.4164 - acc: 0.8535 - val_loss: 0.3956 - val_acc: 0.8630\n",
      "Epoch 5/30\n",
      "55000/55000 [==============================] - 7s 120us/step - loss: 0.3955 - acc: 0.8618 - val_loss: 0.3801 - val_acc: 0.8700\n",
      "Epoch 6/30\n",
      "55000/55000 [==============================] - 7s 119us/step - loss: 0.3798 - acc: 0.8668 - val_loss: 0.3752 - val_acc: 0.8708\n",
      "Epoch 7/30\n",
      "55000/55000 [==============================] - 7s 122us/step - loss: 0.3663 - acc: 0.8708 - val_loss: 0.3745 - val_acc: 0.8674\n",
      "Epoch 8/30\n",
      "55000/55000 [==============================] - 6s 116us/step - loss: 0.3544 - acc: 0.8741 - val_loss: 0.3577 - val_acc: 0.8718\n",
      "Epoch 9/30\n",
      "55000/55000 [==============================] - 7s 120us/step - loss: 0.3445 - acc: 0.8768 - val_loss: 0.3433 - val_acc: 0.8768\n",
      "Epoch 10/30\n",
      "55000/55000 [==============================] - 6s 115us/step - loss: 0.3341 - acc: 0.8807 - val_loss: 0.3326 - val_acc: 0.8802\n",
      "Epoch 11/30\n",
      "55000/55000 [==============================] - 7s 119us/step - loss: 0.3261 - acc: 0.8831 - val_loss: 0.3543 - val_acc: 0.8722\n",
      "Epoch 12/30\n",
      "55000/55000 [==============================] - 7s 122us/step - loss: 0.3183 - acc: 0.8860 - val_loss: 0.3413 - val_acc: 0.8786\n",
      "Epoch 13/30\n",
      "55000/55000 [==============================] - 6s 116us/step - loss: 0.3113 - acc: 0.8877 - val_loss: 0.3350 - val_acc: 0.8798\n",
      "Epoch 14/30\n",
      "55000/55000 [==============================] - 7s 118us/step - loss: 0.3044 - acc: 0.8905 - val_loss: 0.3314 - val_acc: 0.8816\n",
      "Epoch 15/30\n",
      "55000/55000 [==============================] - 7s 124us/step - loss: 0.2974 - acc: 0.8933 - val_loss: 0.3237 - val_acc: 0.8830\n",
      "Epoch 16/30\n",
      "55000/55000 [==============================] - 6s 117us/step - loss: 0.2916 - acc: 0.8950 - val_loss: 0.3235 - val_acc: 0.8822\n",
      "Epoch 17/30\n",
      "55000/55000 [==============================] - 6s 117us/step - loss: 0.2863 - acc: 0.8969 - val_loss: 0.3168 - val_acc: 0.8840\n",
      "Epoch 18/30\n",
      "55000/55000 [==============================] - 7s 123us/step - loss: 0.2805 - acc: 0.8992 - val_loss: 0.3173 - val_acc: 0.8904\n",
      "Epoch 19/30\n",
      "55000/55000 [==============================] - 7s 124us/step - loss: 0.2755 - acc: 0.9003 - val_loss: 0.3089 - val_acc: 0.8900\n",
      "Epoch 20/30\n",
      "55000/55000 [==============================] - 7s 125us/step - loss: 0.2701 - acc: 0.9026 - val_loss: 0.3141 - val_acc: 0.8892\n",
      "Epoch 21/30\n",
      "55000/55000 [==============================] - 6s 115us/step - loss: 0.2652 - acc: 0.9033 - val_loss: 0.3062 - val_acc: 0.8888\n",
      "Epoch 22/30\n",
      "55000/55000 [==============================] - 6s 116us/step - loss: 0.2603 - acc: 0.9060 - val_loss: 0.3042 - val_acc: 0.8886\n",
      "Epoch 23/30\n",
      "55000/55000 [==============================] - 6s 117us/step - loss: 0.2561 - acc: 0.9073 - val_loss: 0.3005 - val_acc: 0.8936\n",
      "Epoch 24/30\n",
      "55000/55000 [==============================] - 6s 118us/step - loss: 0.2511 - acc: 0.9083 - val_loss: 0.3020 - val_acc: 0.8916\n",
      "Epoch 25/30\n",
      "55000/55000 [==============================] - 6s 118us/step - loss: 0.2481 - acc: 0.9111 - val_loss: 0.2923 - val_acc: 0.8946\n",
      "Epoch 26/30\n",
      "55000/55000 [==============================] - 7s 121us/step - loss: 0.2442 - acc: 0.9122 - val_loss: 0.2977 - val_acc: 0.8952\n",
      "Epoch 27/30\n",
      "55000/55000 [==============================] - 6s 118us/step - loss: 0.2398 - acc: 0.9135 - val_loss: 0.2972 - val_acc: 0.8938\n",
      "Epoch 28/30\n",
      "55000/55000 [==============================] - 6s 113us/step - loss: 0.2350 - acc: 0.9157 - val_loss: 0.3038 - val_acc: 0.8916\n",
      "Epoch 29/30\n",
      "55000/55000 [==============================] - 6s 117us/step - loss: 0.2318 - acc: 0.9163 - val_loss: 0.2853 - val_acc: 0.8994\n",
      "Epoch 30/30\n",
      "55000/55000 [==============================] - 6s 118us/step - loss: 0.2286 - acc: 0.9179 - val_loss: 0.3005 - val_acc: 0.8942\n"
     ]
    }
   ],
   "source": [
    "history_fashion = model_fashion.fit(X_train_fashion, \n",
    "                                    y_train_fashion, \n",
    "                                    epochs=30,\n",
    "                                    validation_data=(X_valid_fashion, y_valid_fashion))"
   ]
  },
  {
   "cell_type": "markdown",
   "metadata": {},
   "source": [
    "Por cada epoch, se ha ido imprimiendo la pérdida del modelo tanto sobre el conjunto de entrenamiento como sobre el de validación. Además el rendimiento (`accuracy` en este caso) igualmente sobre el entrenamiento y sobre validación.  \n",
    "\n",
    "Como se observa, el rendimiento final sobre el conjunto de validación es cercano al 90%, lo cual está bastante bien."
   ]
  },
  {
   "cell_type": "markdown",
   "metadata": {},
   "source": [
    "Como decíamos, en `history_fashion` tenemos una serie de datos sobre el entrenamiento:"
   ]
  },
  {
   "cell_type": "code",
   "execution_count": 24,
   "metadata": {},
   "outputs": [
    {
     "data": {
      "text/plain": [
       "{'batch_size': 32,\n",
       " 'epochs': 30,\n",
       " 'steps': None,\n",
       " 'samples': 55000,\n",
       " 'verbose': 1,\n",
       " 'do_validation': True,\n",
       " 'metrics': ['loss', 'acc', 'val_loss', 'val_acc']}"
      ]
     },
     "execution_count": 24,
     "metadata": {},
     "output_type": "execute_result"
    }
   ],
   "source": [
    "history_fashion.params"
   ]
  },
  {
   "cell_type": "markdown",
   "metadata": {},
   "source": [
    "En particular, `history_fashion.history` es un diccionario que contiene los datos de pérdida y rendimiento que se han ido imprimiendo para cada epoch. Esto nos permite hacer una gráfica en la que vemos la evolución de ambas funciones, tanto sobre entrenamiento como sobre validación. "
   ]
  },
  {
   "cell_type": "code",
   "execution_count": 25,
   "metadata": {},
   "outputs": [],
   "source": [
    "import matplotlib as mpl\n",
    "\n",
    "mpl.rcParams['figure.figsize'] = (15,5) # Para el tamaño de la imagen\n",
    "mpl.rcParams['figure.figsize'] = (15,5)"
   ]
  },
  {
   "cell_type": "code",
   "execution_count": 26,
   "metadata": {},
   "outputs": [
    {
     "data": {
      "image/png": "[encoded data removed]",
      "text/plain": [
       "<Figure size 1080x360 with 1 Axes>"
      ]
     },
     "metadata": {
      "needs_background": "light"
     },
     "output_type": "display_data"
    }
   ],
   "source": [
    "plt.plot(history_fashion.history['loss'], label = 'loss')\n",
    "plt.plot(history_fashion.history['val_loss'], label = 'val_loss')\n",
    "plt.plot(history_fashion.history['acc'], label = 'acc')\n",
    "plt.plot(history_fashion.history['val_acc'], label = 'val_acc')\n",
    "plt.title('model loss')\n",
    "plt.xlabel('epoch')\n",
    "plt.legend(['loss','val_loss','acc','val_acc'], loc ='upper left')\n",
    "plt.show()"
   ]
  },
  {
   "cell_type": "code",
   "execution_count": 27,
   "metadata": {},
   "outputs": [
    {
     "data": {
      "image/png": "[encoded data removed]",
      "text/plain": [
       "<Figure size 1080x360 with 1 Axes>"
      ]
     },
     "metadata": {
      "needs_background": "light"
     },
     "output_type": "display_data"
    }
   ],
   "source": [
    "# También podemos obtener la representación gráfica usando el paquete pandas\n",
    "\n",
    "import pandas as pd\n",
    "\n",
    "pd.DataFrame(history_fashion.history).plot(figsize=(15, 5))\n",
    "plt.grid(True)\n",
    "plt.gca().set_ylim(0, 1)\n",
    "plt.show()"
   ]
  },
  {
   "cell_type": "markdown",
   "metadata": {},
   "source": [
    "En la gráfica anterior se observa que a medida que transcurren los epochs se consigue el objetivo de bajar la función de pérdida sobre el conjunto de entrenamiento (y aumentar el rendimiento). También vemos que (aunque obviamente un poco peor), igualmente se rebaja la pérdida sobre el conjunto de validación y se aumenta el rendimiento, lo que quiere decir que no hay sobreajuste. "
   ]
  },
  {
   "cell_type": "markdown",
   "metadata": {},
   "source": [
    "Veamos ahora el rendimiento sobre el conjunto de prueba, también bastante bueno. Los valores obtenidos son la medida de error (loss) y las métricas que hemos usado (accuracy en este caso) sobre le conjunto de test."
   ]
  },
  {
   "cell_type": "code",
   "execution_count": 28,
   "metadata": {},
   "outputs": [
    {
     "name": "stdout",
     "output_type": "stream",
     "text": [
      "10000/10000 [==============================] - 0s 41us/step\n",
      "\n",
      "Error (loss) sobre el conjunto de test: 0.33122344014048577\n",
      "Rendimiento (accuracy) sobre el conjunto de test: 0.8795\n"
     ]
    }
   ],
   "source": [
    "test_loss, test_acc = model_fashion.evaluate(X_test_fashion, y_test_fashion)\n",
    "print('\\nError (loss) sobre el conjunto de test:',test_loss)\n",
    "print('Rendimiento (accuracy) sobre el conjunto de test:',test_acc)"
   ]
  },
  {
   "cell_type": "markdown",
   "metadata": {},
   "source": [
    "Para finalizar, veamos la predicción (`predict`) sobre los tres primeros ejemplos del conjunto de test, y comprobemos si se ha acertado:"
   ]
  },
  {
   "cell_type": "code",
   "execution_count": 29,
   "metadata": {},
   "outputs": [
    {
     "data": {
      "text/plain": [
       "array([[0., 0., 0., 0., 0., 0., 0., 0., 0., 1.],\n",
       "       [0., 0., 1., 0., 0., 0., 0., 0., 0., 0.],\n",
       "       [0., 1., 0., 0., 0., 0., 0., 0., 0., 0.]], dtype=float32)"
      ]
     },
     "execution_count": 29,
     "metadata": {},
     "output_type": "execute_result"
    }
   ],
   "source": [
    "X_new_fashion = X_test_fashion[:3]\n",
    "y_proba_fashion = model_fashion.predict(X_new_fashion)\n",
    "y_proba_fashion.round(2)"
   ]
  },
  {
   "cell_type": "markdown",
   "metadata": {},
   "source": [
    "Lo anterior son las probabilidades que se predicen para cada clase, en cada uno de los tres ejemplos. En el primer caso, la probabilidad mayor es la de la última clase (Botas), en el segundo es la clase tercera (Chaleco) y en tercero es la segunda clase (Pantalón). Podemos usar  el método `predict_classes` para ver las clases concretas que se predicen:"
   ]
  },
  {
   "cell_type": "code",
   "execution_count": 30,
   "metadata": {},
   "outputs": [
    {
     "data": {
      "text/plain": [
       "array([9, 2, 1])"
      ]
     },
     "execution_count": 30,
     "metadata": {},
     "output_type": "execute_result"
    }
   ],
   "source": [
    "y_pred_fashion = model_fashion.predict_classes(X_new_fashion)\n",
    "y_pred_fashion"
   ]
  },
  {
   "cell_type": "code",
   "execution_count": 31,
   "metadata": {},
   "outputs": [
    {
     "data": {
      "text/plain": [
       "array(['Botas', 'Chaleco', 'Pantalón'], dtype='<U9')"
      ]
     },
     "execution_count": 31,
     "metadata": {},
     "output_type": "execute_result"
    }
   ],
   "source": [
    "np.array(class_names)[y_pred_fashion]"
   ]
  },
  {
   "cell_type": "markdown",
   "metadata": {},
   "source": [
    "En este caso, se acierta en los tres ejemplos:"
   ]
  },
  {
   "cell_type": "code",
   "execution_count": 32,
   "metadata": {},
   "outputs": [
    {
     "data": {
      "text/plain": [
       "array([9, 2, 1], dtype=uint8)"
      ]
     },
     "execution_count": 32,
     "metadata": {},
     "output_type": "execute_result"
    }
   ],
   "source": [
    "y_new_fashion = y_test_fashion[:3]\n",
    "y_new_fashion"
   ]
  },
  {
   "cell_type": "markdown",
   "metadata": {},
   "source": [
    "Podemos incluso ver las imágenes, comprobando los aciertos:"
   ]
  },
  {
   "cell_type": "code",
   "execution_count": 33,
   "metadata": {},
   "outputs": [
    {
     "data": {
      "image/png": "[encoded data removed]",
      "text/plain": [
       "<Figure size 518.4x172.8 with 3 Axes>"
      ]
     },
     "metadata": {
      "needs_background": "light"
     },
     "output_type": "display_data"
    }
   ],
   "source": [
    "plt.figure(figsize=(7.2, 2.4))\n",
    "for index, image in enumerate(X_new_fashion):\n",
    "    plt.subplot(1, 3, index + 1)\n",
    "    plt.imshow(image, cmap=\"binary\", interpolation=\"nearest\")\n",
    "    plt.axis('off')\n",
    "    plt.title(class_names[y_test_fashion[index]], fontsize=12)\n",
    "plt.subplots_adjust(wspace=0.2, hspace=0.5)\n",
    "#save_fig('fashion_mnist_images_plot', tight_layout=False)\n",
    "plt.show()"
   ]
  },
  {
   "cell_type": "markdown",
   "metadata": {},
   "source": [
    "Puesto que la salida de la última capa es una distribución de probabilidad, podemos también representar la probabilidad de cada una de las categorías."
   ]
  },
  {
   "cell_type": "code",
   "execution_count": 34,
   "metadata": {},
   "outputs": [],
   "source": [
    "# Código tomado de https://www.tensorflow.org/tutorials/keras/classification\n",
    "\n",
    "def plot_image(i, predictions_array, true_label, img):\n",
    "  predictions_array, true_label, img = predictions_array[i], true_label[i], img[i]\n",
    "  plt.grid(False)\n",
    "  plt.xticks([])\n",
    "  plt.yticks([])\n",
    "\n",
    "  plt.imshow(img, cmap=plt.cm.binary)\n",
    "\n",
    "  predicted_label = np.argmax(predictions_array)\n",
    "  if predicted_label == true_label:\n",
    "    color = 'blue'\n",
    "  else:\n",
    "    color = 'red'\n",
    "\n",
    "  plt.xlabel(\"{} {:2.0f}% ({})\".format(class_names[predicted_label],\n",
    "                                100*np.max(predictions_array),\n",
    "                                class_names[true_label]),\n",
    "                                color=color)\n",
    "\n",
    "def plot_value_array(i, predictions_array, true_label):\n",
    "  predictions_array, true_label = predictions_array, true_label[i]\n",
    "  plt.grid(False)\n",
    "  plt.xticks(range(10))\n",
    "  plt.yticks([])\n",
    "  thisplot = plt.bar(range(10), predictions_array, color=\"#777777\")\n",
    "  plt.ylim([0, 1])\n",
    "  predicted_label = np.argmax(predictions_array)\n",
    "\n",
    "  thisplot[predicted_label].set_color('red')\n",
    "  thisplot[true_label].set_color('blue')"
   ]
  },
  {
   "cell_type": "markdown",
   "metadata": {},
   "source": [
    "Podemos usar ese código para representar la salida de la red."
   ]
  },
  {
   "cell_type": "code",
   "execution_count": 35,
   "metadata": {},
   "outputs": [
    {
     "data": {
      "image/png": "[encoded data removed]",
      "text/plain": [
       "<Figure size 432x216 with 2 Axes>"
      ]
     },
     "metadata": {
      "needs_background": "light"
     },
     "output_type": "display_data"
    }
   ],
   "source": [
    "y_pred_fashion_test = model_fashion.predict(X_test_fashion)\n",
    "\n",
    "i = 4\n",
    "plt.figure(figsize=(6,3))\n",
    "plt.subplot(1,2,1)\n",
    "# plot_image(i, predictions[i], test_labels, test_images)\n",
    "plot_image(i, y_pred_fashion_test, y_test_fashion, X_test_fashion)\n",
    "plt.subplot(1,2,2)\n",
    "plot_value_array(i, y_pred_fashion_test[i],  y_test_fashion)\n",
    "#plot_value_array(i, predictions[i],  test_labels)\n",
    "plt.show()"
   ]
  },
  {
   "cell_type": "markdown",
   "metadata": {},
   "source": [
    "Es interesante ver qué ocurre con los ejemplos en los que hay dos categorías con probabilidad alta. Por ejemplo, si vemos la salida de la red en el ejmplo 4."
   ]
  },
  {
   "cell_type": "code",
   "execution_count": 36,
   "metadata": {},
   "outputs": [
    {
     "data": {
      "text/plain": [
       "array([0.12, 0.  , 0.01, 0.  , 0.01, 0.  , 0.87, 0.  , 0.  , 0.  ],\n",
       "      dtype=float32)"
      ]
     },
     "execution_count": 36,
     "metadata": {},
     "output_type": "execute_result"
    }
   ],
   "source": [
    "y_pred_fashion_test[4].round(2)"
   ]
  },
  {
   "cell_type": "markdown",
   "metadata": {},
   "source": [
    "Vemos que la categoría 6 (Camisa) tiene una probabilidad de 0.47 (aprox.) y que la categoría 1 (Camiseta) tiene probabilidad 0.44. ¿Debemos fiarnos de esa clasificación cuando la diferencia es tan ajustada?"
   ]
  },
  {
   "cell_type": "markdown",
   "metadata": {},
   "source": [
    "Podemos representar la distribución de probabilidad asociada a otras imágenes con elsiguiente código."
   ]
  },
  {
   "cell_type": "code",
   "execution_count": 37,
   "metadata": {},
   "outputs": [
    {
     "data": {
      "image/png": "[encoded data removed]",
      "text/plain": [
       "<Figure size 864x720 with 30 Axes>"
      ]
     },
     "metadata": {
      "needs_background": "light"
     },
     "output_type": "display_data"
    }
   ],
   "source": [
    "# Representamos la predicción correcta en azul y si es incorrecta en rojo\n",
    "\n",
    "num_rows = 5\n",
    "num_cols = 3\n",
    "num_images = num_rows*num_cols\n",
    "plt.figure(figsize=(2*2*num_cols, 2*num_rows))\n",
    "for i in range(num_images):\n",
    "  plt.subplot(num_rows, 2*num_cols, 2*i+1)\n",
    "#  plot_image(i, predictions[i], test_labels, test_images)\n",
    "  plot_image(i, y_pred_fashion_test, y_test_fashion, X_test_fashion)\n",
    "  plt.subplot(num_rows, 2*num_cols, 2*i+2)\n",
    "#  plot_value_array(i, predictions[i], test_labels)\n",
    "  plot_value_array(i, y_pred_fashion_test[i],  y_test_fashion) \n",
    "plt.tight_layout()\n",
    "plt.show()\n"
   ]
  },
  {
   "cell_type": "markdown",
   "metadata": {},
   "source": [
    "# Experimento 2"
   ]
  },
  {
   "cell_type": "markdown",
   "metadata": {},
   "source": [
    "En este segundo experimento vamos a basarnos en otro de los más famosos conjuntos de ejemplos, el conjunto de imágenes MNIST, formado por imágenes de dígitos escritos a mano. Puedes obtener información sobre este conjunto en http://yann.lecun.com/exdb/mnist/. Aquí seguimos un ejemplo tomado de la web de keras https://keras.io/examples/mnist_mlp/"
   ]
  },
  {
   "cell_type": "code",
   "execution_count": 38,
   "metadata": {},
   "outputs": [],
   "source": [
    "# Cargamos las librerías\n",
    "\n",
    "from keras.models import Sequential\n",
    "from keras.layers import Dense, Dropout\n",
    "from keras.optimizers import RMSprop"
   ]
  },
  {
   "cell_type": "code",
   "execution_count": 39,
   "metadata": {},
   "outputs": [],
   "source": [
    "# Cargamos el conjunto MNIST.\n",
    "\n",
    "from keras.datasets import mnist"
   ]
  },
  {
   "cell_type": "code",
   "execution_count": 40,
   "metadata": {},
   "outputs": [],
   "source": [
    "# Cargamos el dataset con load.\n",
    "# En este caso ya está separado en entrenamiento y prueba\n",
    "(X_train_mnist, y_train_mnist), (X_test_mnist, y_test_mnist) = mnist.load_data()"
   ]
  },
  {
   "cell_type": "code",
   "execution_count": 41,
   "metadata": {},
   "outputs": [
    {
     "name": "stdout",
     "output_type": "stream",
     "text": [
      "(60000, 28, 28)\n",
      "(10000, 28, 28)\n"
     ]
    }
   ],
   "source": [
    "# Usamos 60000 ejemplos para entrenar y 10000 ejemplo para el test\n",
    "# x_train es un tensor formado por 60000 matrices de tamaño 28 x 28\n",
    "print(X_train_mnist.shape)\n",
    "print(X_test_mnist.shape)"
   ]
  },
  {
   "cell_type": "code",
   "execution_count": 42,
   "metadata": {},
   "outputs": [
    {
     "data": {
      "text/plain": [
       "array([[  0,   0,   0,   0,   0,   0,   0,   0,   0,   0,   0,   0,   0,\n",
       "          0,   0,   0,   0,   0,   0,   0,   0,   0,   0,   0,   0,   0,\n",
       "          0,   0],\n",
       "       [  0,   0,   0,   0,   0,   0,   0,   0,   0,   0,   0,   0,   0,\n",
       "          0,   0,   0,   0,   0,   0,   0,   0,   0,   0,   0,   0,   0,\n",
       "          0,   0],\n",
       "       [  0,   0,   0,   0,   0,   0,   0,   0,   0,   0,   0,   0,   0,\n",
       "          0,   0,   0,   0,   0,   0,   0,   0,   0,   0,   0,   0,   0,\n",
       "          0,   0],\n",
       "       [  0,   0,   0,   0,   0,   0,   0,   0,   0,   0,   0,   0,   0,\n",
       "          0,   0,   0,   0,   0,   0,   0,   0,   0,   0,   0,   0,   0,\n",
       "          0,   0],\n",
       "       [  0,   0,   0,   0,   0,   0,   0,   0,   0,   0,   0,   0,   0,\n",
       "          0,   0,   0,   0,   0,   0,   0,   0,   0,   0,   0,   0,   0,\n",
       "          0,   0],\n",
       "       [  0,   0,   0,   0,   0,   0,   0,   0,   0,   0,   0,   0,   3,\n",
       "         18,  18,  18, 126, 136, 175,  26, 166, 255, 247, 127,   0,   0,\n",
       "          0,   0],\n",
       "       [  0,   0,   0,   0,   0,   0,   0,   0,  30,  36,  94, 154, 170,\n",
       "        253, 253, 253, 253, 253, 225, 172, 253, 242, 195,  64,   0,   0,\n",
       "          0,   0],\n",
       "       [  0,   0,   0,   0,   0,   0,   0,  49, 238, 253, 253, 253, 253,\n",
       "        253, 253, 253, 253, 251,  93,  82,  82,  56,  39,   0,   0,   0,\n",
       "          0,   0],\n",
       "       [  0,   0,   0,   0,   0,   0,   0,  18, 219, 253, 253, 253, 253,\n",
       "        253, 198, 182, 247, 241,   0,   0,   0,   0,   0,   0,   0,   0,\n",
       "          0,   0],\n",
       "       [  0,   0,   0,   0,   0,   0,   0,   0,  80, 156, 107, 253, 253,\n",
       "        205,  11,   0,  43, 154,   0,   0,   0,   0,   0,   0,   0,   0,\n",
       "          0,   0],\n",
       "       [  0,   0,   0,   0,   0,   0,   0,   0,   0,  14,   1, 154, 253,\n",
       "         90,   0,   0,   0,   0,   0,   0,   0,   0,   0,   0,   0,   0,\n",
       "          0,   0],\n",
       "       [  0,   0,   0,   0,   0,   0,   0,   0,   0,   0,   0, 139, 253,\n",
       "        190,   2,   0,   0,   0,   0,   0,   0,   0,   0,   0,   0,   0,\n",
       "          0,   0],\n",
       "       [  0,   0,   0,   0,   0,   0,   0,   0,   0,   0,   0,  11, 190,\n",
       "        253,  70,   0,   0,   0,   0,   0,   0,   0,   0,   0,   0,   0,\n",
       "          0,   0],\n",
       "       [  0,   0,   0,   0,   0,   0,   0,   0,   0,   0,   0,   0,  35,\n",
       "        241, 225, 160, 108,   1,   0,   0,   0,   0,   0,   0,   0,   0,\n",
       "          0,   0],\n",
       "       [  0,   0,   0,   0,   0,   0,   0,   0,   0,   0,   0,   0,   0,\n",
       "         81, 240, 253, 253, 119,  25,   0,   0,   0,   0,   0,   0,   0,\n",
       "          0,   0],\n",
       "       [  0,   0,   0,   0,   0,   0,   0,   0,   0,   0,   0,   0,   0,\n",
       "          0,  45, 186, 253, 253, 150,  27,   0,   0,   0,   0,   0,   0,\n",
       "          0,   0],\n",
       "       [  0,   0,   0,   0,   0,   0,   0,   0,   0,   0,   0,   0,   0,\n",
       "          0,   0,  16,  93, 252, 253, 187,   0,   0,   0,   0,   0,   0,\n",
       "          0,   0],\n",
       "       [  0,   0,   0,   0,   0,   0,   0,   0,   0,   0,   0,   0,   0,\n",
       "          0,   0,   0,   0, 249, 253, 249,  64,   0,   0,   0,   0,   0,\n",
       "          0,   0],\n",
       "       [  0,   0,   0,   0,   0,   0,   0,   0,   0,   0,   0,   0,   0,\n",
       "          0,  46, 130, 183, 253, 253, 207,   2,   0,   0,   0,   0,   0,\n",
       "          0,   0],\n",
       "       [  0,   0,   0,   0,   0,   0,   0,   0,   0,   0,   0,   0,  39,\n",
       "        148, 229, 253, 253, 253, 250, 182,   0,   0,   0,   0,   0,   0,\n",
       "          0,   0],\n",
       "       [  0,   0,   0,   0,   0,   0,   0,   0,   0,   0,  24, 114, 221,\n",
       "        253, 253, 253, 253, 201,  78,   0,   0,   0,   0,   0,   0,   0,\n",
       "          0,   0],\n",
       "       [  0,   0,   0,   0,   0,   0,   0,   0,  23,  66, 213, 253, 253,\n",
       "        253, 253, 198,  81,   2,   0,   0,   0,   0,   0,   0,   0,   0,\n",
       "          0,   0],\n",
       "       [  0,   0,   0,   0,   0,   0,  18, 171, 219, 253, 253, 253, 253,\n",
       "        195,  80,   9,   0,   0,   0,   0,   0,   0,   0,   0,   0,   0,\n",
       "          0,   0],\n",
       "       [  0,   0,   0,   0,  55, 172, 226, 253, 253, 253, 253, 244, 133,\n",
       "         11,   0,   0,   0,   0,   0,   0,   0,   0,   0,   0,   0,   0,\n",
       "          0,   0],\n",
       "       [  0,   0,   0,   0, 136, 253, 253, 253, 212, 135, 132,  16,   0,\n",
       "          0,   0,   0,   0,   0,   0,   0,   0,   0,   0,   0,   0,   0,\n",
       "          0,   0],\n",
       "       [  0,   0,   0,   0,   0,   0,   0,   0,   0,   0,   0,   0,   0,\n",
       "          0,   0,   0,   0,   0,   0,   0,   0,   0,   0,   0,   0,   0,\n",
       "          0,   0],\n",
       "       [  0,   0,   0,   0,   0,   0,   0,   0,   0,   0,   0,   0,   0,\n",
       "          0,   0,   0,   0,   0,   0,   0,   0,   0,   0,   0,   0,   0,\n",
       "          0,   0],\n",
       "       [  0,   0,   0,   0,   0,   0,   0,   0,   0,   0,   0,   0,   0,\n",
       "          0,   0,   0,   0,   0,   0,   0,   0,   0,   0,   0,   0,   0,\n",
       "          0,   0]], dtype=uint8)"
      ]
     },
     "execution_count": 42,
     "metadata": {},
     "output_type": "execute_result"
    }
   ],
   "source": [
    "# Obtenemos el primer ejemplo. Es una matriz (array) de 28 x 28 valores.\n",
    "X_train_mnist[0]"
   ]
  },
  {
   "cell_type": "code",
   "execution_count": 43,
   "metadata": {},
   "outputs": [
    {
     "name": "stdout",
     "output_type": "stream",
     "text": [
      "Tamaño: (28, 28)\n",
      "Valor máximo: 255\n",
      "Valor mínimo: 0\n"
     ]
    }
   ],
   "source": [
    "# No nos dice mucho. Obtengamos algo de información del primer ejemplo.\n",
    "\n",
    "print('Tamaño:', X_train_mnist[0].shape)\n",
    "print('Valor máximo:',np.amax(X_train_mnist[0]))\n",
    "print('Valor mínimo:',np.amin(X_train_mnist[0]))"
   ]
  },
  {
   "cell_type": "code",
   "execution_count": 44,
   "metadata": {},
   "outputs": [
    {
     "data": {
      "image/png": "[encoded data removed]",
      "text/plain": [
       "<Figure size 1080x360 with 1 Axes>"
      ]
     },
     "metadata": {
      "needs_background": "light"
     },
     "output_type": "display_data"
    }
   ],
   "source": [
    "# Es una matriz de 28 x 28 con valores enteros entre 0 y 255\n",
    "# La interpretamos como una imagen en escala de grises.\n",
    "plt.imshow(X_train_mnist[0], cmap='Greys')\n",
    "plt.show()"
   ]
  },
  {
   "cell_type": "code",
   "execution_count": 45,
   "metadata": {},
   "outputs": [
    {
     "name": "stdout",
     "output_type": "stream",
     "text": [
      "5\n"
     ]
    }
   ],
   "source": [
    "# Está clasificado como 5\n",
    "print(y_train_mnist[0]) "
   ]
  },
  {
   "cell_type": "code",
   "execution_count": 46,
   "metadata": {},
   "outputs": [
    {
     "name": "stdout",
     "output_type": "stream",
     "text": [
      "La etiqueta del ejemplo 3452 es 3\n"
     ]
    },
    {
     "data": {
      "image/png": "[encoded data removed]",
      "text/plain": [
       "<Figure size 1080x360 with 1 Axes>"
      ]
     },
     "metadata": {
      "needs_background": "light"
     },
     "output_type": "display_data"
    }
   ],
   "source": [
    "# Probamos con otros índices\n",
    "\n",
    "indice_prueba = 3452\n",
    "plt.imshow(X_train_mnist[indice_prueba], cmap='Greys')\n",
    "print('La etiqueta del ejemplo',indice_prueba,'es',y_train_mnist[indice_prueba]) "
   ]
  },
  {
   "cell_type": "code",
   "execution_count": 47,
   "metadata": {},
   "outputs": [
    {
     "name": "stdout",
     "output_type": "stream",
     "text": [
      "60000 train samples\n",
      "10000 test samples\n"
     ]
    }
   ],
   "source": [
    "# En el Experimento 1 usábamos una primera capa Flatten para cambiar las dimensiones de los tensores. \n",
    "# Esto también se puede hacer aparte\n",
    "\n",
    "X_train_m_reshaped = X_train_mnist.reshape(60000, 784).astype('float32') / 255\n",
    "X_test_m_reshaped = X_test_mnist.reshape(10000, 784).astype('float32') /255\n",
    "\n",
    "print(X_train_m_reshaped.shape[0], 'train samples')\n",
    "print(X_test_m_reshaped.shape[0], 'test samples')"
   ]
  },
  {
   "cell_type": "code",
   "execution_count": 48,
   "metadata": {},
   "outputs": [
    {
     "name": "stdout",
     "output_type": "stream",
     "text": [
      "Cada ejemplo es ahora un vector de longitud 784\n"
     ]
    }
   ],
   "source": [
    "print('Cada ejemplo es ahora un vector de longitud',X_train_m_reshaped.shape[1])"
   ]
  },
  {
   "cell_type": "code",
   "execution_count": 49,
   "metadata": {},
   "outputs": [],
   "source": [
    "# En este experimento vamos a usar la representación one-hot para las etiquetas\n",
    "\n",
    "num_classes= 10\n",
    "\n",
    "y_train_m_reshaped = keras.utils.to_categorical(y_train_mnist, num_classes)\n",
    "y_test_m_reshaped = keras.utils.to_categorical(y_test_mnist, num_classes)"
   ]
  },
  {
   "cell_type": "code",
   "execution_count": 50,
   "metadata": {},
   "outputs": [
    {
     "data": {
      "text/plain": [
       "array([0., 0., 0., 0., 0., 1., 0., 0., 0., 0.], dtype=float32)"
      ]
     },
     "execution_count": 50,
     "metadata": {},
     "output_type": "execute_result"
    }
   ],
   "source": [
    "# Vemos la primera etiqueta, que como hemos visto antes, corresponde al 5\n",
    "y_train_m_reshaped[0]"
   ]
  },
  {
   "cell_type": "code",
   "execution_count": 51,
   "metadata": {},
   "outputs": [],
   "source": [
    "# Creamos el modelo\n",
    "\n",
    "model_mnist = Sequential()\n",
    "model_mnist.add(Dense(512, activation='relu', input_shape=(784,)))\n",
    "model_mnist.add(Dense(512, activation='relu'))\n",
    "model_mnist.add(Dense(num_classes, activation='softmax'))"
   ]
  },
  {
   "cell_type": "code",
   "execution_count": 52,
   "metadata": {},
   "outputs": [
    {
     "name": "stdout",
     "output_type": "stream",
     "text": [
      "_________________________________________________________________\n",
      "Layer (type)                 Output Shape              Param #   \n",
      "=================================================================\n",
      "dense_4 (Dense)              (None, 512)               401920    \n",
      "_________________________________________________________________\n",
      "dense_5 (Dense)              (None, 512)               262656    \n",
      "_________________________________________________________________\n",
      "dense_6 (Dense)              (None, 10)                5130      \n",
      "=================================================================\n",
      "Total params: 669,706\n",
      "Trainable params: 669,706\n",
      "Non-trainable params: 0\n",
      "_________________________________________________________________\n"
     ]
    }
   ],
   "source": [
    "# Vemos qué pinta tiene\n",
    "model_mnist.summary()"
   ]
  },
  {
   "cell_type": "code",
   "execution_count": 53,
   "metadata": {},
   "outputs": [],
   "source": [
    "# Compilamos\n",
    "\n",
    "model_mnist.compile(loss='categorical_crossentropy',\n",
    "              optimizer=RMSprop(),\n",
    "              metrics=['accuracy'])"
   ]
  },
  {
   "cell_type": "code",
   "execution_count": 54,
   "metadata": {},
   "outputs": [
    {
     "name": "stdout",
     "output_type": "stream",
     "text": [
      "Train on 60000 samples, validate on 10000 samples\n",
      "Epoch 1/20\n",
      "60000/60000 [==============================] - 4s 75us/step - loss: 0.2200 - acc: 0.9326 - val_loss: 0.1238 - val_acc: 0.9624\n",
      "Epoch 2/20\n",
      "60000/60000 [==============================] - 4s 69us/step - loss: 0.0823 - acc: 0.9742 - val_loss: 0.0928 - val_acc: 0.9713\n",
      "Epoch 3/20\n",
      "60000/60000 [==============================] - 4s 70us/step - loss: 0.0530 - acc: 0.9839 - val_loss: 0.0821 - val_acc: 0.9780\n",
      "Epoch 4/20\n",
      "60000/60000 [==============================] - 4s 72us/step - loss: 0.0387 - acc: 0.9880 - val_loss: 0.0731 - val_acc: 0.9792\n",
      "Epoch 5/20\n",
      "60000/60000 [==============================] - 4s 72us/step - loss: 0.0295 - acc: 0.9905 - val_loss: 0.0768 - val_acc: 0.9822\n",
      "Epoch 6/20\n",
      "60000/60000 [==============================] - 4s 69us/step - loss: 0.0221 - acc: 0.9931 - val_loss: 0.1191 - val_acc: 0.9721\n",
      "Epoch 7/20\n",
      "60000/60000 [==============================] - 4s 69us/step - loss: 0.0193 - acc: 0.9941 - val_loss: 0.1040 - val_acc: 0.9793\n",
      "Epoch 8/20\n",
      "60000/60000 [==============================] - 4s 69us/step - loss: 0.0148 - acc: 0.9956 - val_loss: 0.1024 - val_acc: 0.9799\n",
      "Epoch 9/20\n",
      "60000/60000 [==============================] - 4s 69us/step - loss: 0.0137 - acc: 0.9960 - val_loss: 0.1008 - val_acc: 0.9813\n",
      "Epoch 10/20\n",
      "60000/60000 [==============================] - 4s 69us/step - loss: 0.0141 - acc: 0.9964 - val_loss: 0.1168 - val_acc: 0.9800\n",
      "Epoch 11/20\n",
      "60000/60000 [==============================] - 4s 69us/step - loss: 0.0111 - acc: 0.9963 - val_loss: 0.0941 - val_acc: 0.9842\n",
      "Epoch 12/20\n",
      "60000/60000 [==============================] - 4s 70us/step - loss: 0.0104 - acc: 0.9972 - val_loss: 0.1347 - val_acc: 0.9806\n",
      "Epoch 13/20\n",
      "60000/60000 [==============================] - 4s 68us/step - loss: 0.0092 - acc: 0.9973 - val_loss: 0.1190 - val_acc: 0.9813\n",
      "Epoch 14/20\n",
      "60000/60000 [==============================] - 4s 69us/step - loss: 0.0075 - acc: 0.9979 - val_loss: 0.1277 - val_acc: 0.9808\n",
      "Epoch 15/20\n",
      "60000/60000 [==============================] - 4s 69us/step - loss: 0.0083 - acc: 0.9977 - val_loss: 0.1301 - val_acc: 0.9829\n",
      "Epoch 16/20\n",
      "60000/60000 [==============================] - 4s 69us/step - loss: 0.0075 - acc: 0.9983 - val_loss: 0.1247 - val_acc: 0.9835\n",
      "Epoch 17/20\n",
      "60000/60000 [==============================] - 4s 69us/step - loss: 0.0064 - acc: 0.9984 - val_loss: 0.1348 - val_acc: 0.9825\n",
      "Epoch 18/20\n",
      "60000/60000 [==============================] - 4s 69us/step - loss: 0.0069 - acc: 0.9983 - val_loss: 0.1690 - val_acc: 0.9815\n",
      "Epoch 19/20\n",
      "60000/60000 [==============================] - 4s 69us/step - loss: 0.0059 - acc: 0.9983 - val_loss: 0.1437 - val_acc: 0.9823\n",
      "Epoch 20/20\n",
      "60000/60000 [==============================] - 4s 69us/step - loss: 0.0046 - acc: 0.9987 - val_loss: 0.1487 - val_acc: 0.9826\n"
     ]
    }
   ],
   "source": [
    "# Entrenamos. En este caso vamos a usar como conjunto de validación el mismo conjunto que para test\n",
    "\n",
    "mi_batch_size = 128\n",
    "mis_epochs = 20\n",
    "\n",
    "history_mnist = model_mnist.fit(X_train_m_reshaped, y_train_m_reshaped,\n",
    "                    batch_size=mi_batch_size,\n",
    "                    epochs=mis_epochs,\n",
    "                    verbose=1,\n",
    "                    validation_data=(X_test_m_reshaped, y_test_m_reshaped))"
   ]
  },
  {
   "cell_type": "code",
   "execution_count": 55,
   "metadata": {},
   "outputs": [],
   "source": [
    "# Podemos guardar el modelo ya entrenado como un fichero HDF5\n",
    "# Esto nos permite volver a usar los pesos entrenados en otra sesión\n",
    "model_mnist.save('my_model.h5') "
   ]
  },
  {
   "cell_type": "code",
   "execution_count": 56,
   "metadata": {},
   "outputs": [
    {
     "data": {
      "image/png": "[encoded data removed]",
      "text/plain": [
       "<Figure size 1080x360 with 1 Axes>"
      ]
     },
     "metadata": {
      "needs_background": "light"
     },
     "output_type": "display_data"
    }
   ],
   "source": [
    "# Vemos cómo ha ido la evolución\n",
    "\n",
    "plt.plot(history_mnist.history['loss'], label = 'loss')\n",
    "plt.plot(history_mnist.history['val_loss'], label = 'val_loss')\n",
    "plt.plot(history_mnist.history['acc'], label = 'acc')\n",
    "plt.plot(history_mnist.history['val_acc'], label = 'val_acc')\n",
    "plt.title('model loss')\n",
    "plt.xlabel('epoch')\n",
    "plt.legend(['loss','val_loss','acc','val_acc'], loc ='upper left')\n",
    "plt.show()"
   ]
  },
  {
   "cell_type": "code",
   "execution_count": 57,
   "metadata": {},
   "outputs": [
    {
     "name": "stdout",
     "output_type": "stream",
     "text": [
      "10000/10000 [==============================] - 0s 39us/step\n",
      "Test loss: 0.14874750428100614\n",
      "Test accuracy: 0.9826\n"
     ]
    }
   ],
   "source": [
    "# Vemos el error y la medida de rendimiento (accuracy) obtenida\n",
    "test_m_loss, test_m_acc = model_mnist.evaluate(X_test_m_reshaped, y_test_m_reshaped)\n",
    "print('Test loss:',test_m_loss)\n",
    "print('Test accuracy:',test_m_acc)"
   ]
  },
  {
   "cell_type": "markdown",
   "metadata": {},
   "source": [
    "Nótese que son los valores obtenidos tras el último paso de entrenamiento, ya que hemos usado el conjunto de test como conjunto de validación."
   ]
  },
  {
   "cell_type": "code",
   "execution_count": 58,
   "metadata": {},
   "outputs": [
    {
     "data": {
      "text/plain": [
       "array([[0., 0., 0., 0., 0., 0., 0., 1., 0., 0.],\n",
       "       [0., 0., 1., 0., 0., 0., 0., 0., 0., 0.],\n",
       "       [0., 1., 0., 0., 0., 0., 0., 0., 0., 0.]], dtype=float32)"
      ]
     },
     "execution_count": 58,
     "metadata": {},
     "output_type": "execute_result"
    }
   ],
   "source": [
    "# Podemos ver las predicciones sobre los tres primeros dígitos del conjunto de test\n",
    "\n",
    "X_new_m = X_test_m_reshaped[:3]\n",
    "y_proba_m = model_mnist.predict(X_new_m)\n",
    "y_proba_m.round(2)"
   ]
  },
  {
   "cell_type": "code",
   "execution_count": 59,
   "metadata": {},
   "outputs": [
    {
     "data": {
      "text/plain": [
       "array([7, 2, 1])"
      ]
     },
     "execution_count": 59,
     "metadata": {},
     "output_type": "execute_result"
    }
   ],
   "source": [
    "# Deshaciendo el one-hot encoding, vemos las clases a las que corresponden\n",
    "y_pred = model_mnist.predict_classes(X_new_m)\n",
    "y_pred"
   ]
  },
  {
   "cell_type": "code",
   "execution_count": 60,
   "metadata": {},
   "outputs": [
    {
     "data": {
      "text/plain": [
       "array([7, 2, 1], dtype=uint8)"
      ]
     },
     "execution_count": 60,
     "metadata": {},
     "output_type": "execute_result"
    }
   ],
   "source": [
    "# Comprobamos cuáles eran las etiquetas reales\n",
    "y_test_mnist[:3]"
   ]
  },
  {
   "cell_type": "code",
   "execution_count": 61,
   "metadata": {},
   "outputs": [
    {
     "data": {
      "image/png": "[encoded data removed]",
      "text/plain": [
       "<Figure size 518.4x172.8 with 3 Axes>"
      ]
     },
     "metadata": {
      "needs_background": "light"
     },
     "output_type": "display_data"
    }
   ],
   "source": [
    "# Podemos representar las imágenes junto a sus predicciones\n",
    "\n",
    "plt.figure(figsize=(7.2, 2.4))\n",
    "for index, image in enumerate(X_test_mnist[:3]):\n",
    "    plt.subplot(1, 3, index + 1)\n",
    "    plt.imshow(image, cmap=\"binary\", interpolation=\"nearest\")\n",
    "    plt.axis('off')\n",
    "    plt.title('Predicción:' + str(y_pred[index]), fontsize=12)\n",
    "plt.subplots_adjust(wspace=0.2, hspace=0.5)\n",
    "plt.show()"
   ]
  },
  {
   "cell_type": "markdown",
   "metadata": {},
   "source": [
    "También podemos considerar la matriz de confusión de este experimento"
   ]
  },
  {
   "cell_type": "code",
   "execution_count": 62,
   "metadata": {},
   "outputs": [
    {
     "data": {
      "text/plain": [
       "<matplotlib.axes._subplots.AxesSubplot at 0x7f78044c6e50>"
      ]
     },
     "execution_count": 62,
     "metadata": {},
     "output_type": "execute_result"
    },
    {
     "data": {
      "image/png": "[encoded data removed]",
      "text/plain": [
       "<Figure size 1080x360 with 2 Axes>"
      ]
     },
     "metadata": {},
     "output_type": "display_data"
    }
   ],
   "source": [
    "from sklearn.metrics import confusion_matrix\n",
    "from sklearn.metrics import plot_confusion_matrix\n",
    "\n",
    "import seaborn as sn\n",
    "import pandas as pd\n",
    "\n",
    "\n",
    "Y_pred_test_classes = model_mnist.predict_classes(X_test_m_reshaped)\n",
    "confusion_mtx = confusion_matrix(y_test_mnist, Y_pred_test_classes) \n",
    "\n",
    "\n",
    "df_cm = pd.DataFrame(confusion_mtx, range(10), range(10))\n",
    "sn.set(font_scale=1.4) # for label size\n",
    "sn.heatmap(df_cm, annot=True, annot_kws={\"size\": 16}) # font size\n"
   ]
  },
  {
   "cell_type": "markdown",
   "metadata": {},
   "source": [
    "También puede ser interesante buscar los números en los que la clasificación no ha sido la correcta"
   ]
  },
  {
   "cell_type": "code",
   "execution_count": 63,
   "metadata": {},
   "outputs": [
    {
     "data": {
      "text/plain": [
       "array([[1.1208414e-06, 1.9259044e-08, 9.2397534e-07, ..., 2.3325437e-03,\n",
       "        3.0780080e-05, 9.9590802e-01],\n",
       "       [1.7192460e-05, 1.6325313e-09, 9.9596196e-01, ..., 8.9281716e-12,\n",
       "        7.8278859e-08, 2.6727717e-10],\n",
       "       [1.5621459e-05, 9.9997616e-01, 9.7731936e-07, ..., 1.2621599e-09,\n",
       "        4.2990544e-09, 4.7100136e-12],\n",
       "       ...,\n",
       "       [3.3633541e-03, 1.3493857e-07, 8.3117955e-04, ..., 3.9383303e-06,\n",
       "        9.9436355e-01, 1.8395083e-07],\n",
       "       [4.5642737e-05, 9.9958438e-01, 1.7963053e-05, ..., 5.3836987e-07,\n",
       "        5.7344550e-07, 2.7403419e-07],\n",
       "       [1.3990249e-05, 4.7581229e-06, 7.8560071e-05, ..., 4.6794461e-03,\n",
       "        1.3971784e-03, 6.9735848e-05]], dtype=float32)"
      ]
     },
     "execution_count": 63,
     "metadata": {},
     "output_type": "execute_result"
    }
   ],
   "source": [
    "y_pred_fashion_test"
   ]
  },
  {
   "cell_type": "code",
   "execution_count": 64,
   "metadata": {},
   "outputs": [
    {
     "data": {
      "text/plain": [
       "array([0.0000000e+00, 4.0714152e-32, 4.6400328e-30, 4.9788597e-24,\n",
       "       0.0000000e+00, 0.0000000e+00, 0.0000000e+00, 1.0000000e+00,\n",
       "       4.8576332e-37, 2.0620883e-25], dtype=float32)"
      ]
     },
     "execution_count": 64,
     "metadata": {},
     "output_type": "execute_result"
    }
   ],
   "source": [
    "y_pred_m_test_prob = model_mnist.predict(X_test_m_reshaped)\n",
    "y_pred_m_test_prob[0]"
   ]
  },
  {
   "cell_type": "code",
   "execution_count": 65,
   "metadata": {},
   "outputs": [
    {
     "name": "stdout",
     "output_type": "stream",
     "text": [
      "Salida de la red: [0.   0.26 0.   0.   0.   0.   0.   0.   0.   0.74]\n",
      "Predicción: 9\n",
      "Clasificación real: 1\n"
     ]
    },
    {
     "data": {
      "image/png": "[encoded data removed]",
      "text/plain": [
       "<Figure size 1080x360 with 1 Axes>"
      ]
     },
     "metadata": {},
     "output_type": "display_data"
    }
   ],
   "source": [
    "y_pred_m_test = model_mnist.predict_classes(X_test_m_reshaped)\n",
    "\n",
    "indices_m_diff = [i for i in range(len(y_test_mnist)) if y_test_mnist[i] != y_pred_m_test[i]]\n",
    "\n",
    "diff_i = 0\n",
    "\n",
    "diff_j = indices_m_diff[diff_i]\n",
    "\n",
    "print('Salida de la red:',y_pred_m_test_prob[diff_j].round(2))\n",
    "print('Predicción:',y_pred_m_test[diff_j])\n",
    "print('Clasificación real:',y_test_mnist[diff_j])\n",
    "\n",
    "plt.imshow(X_train_mnist[diff_j], cmap='Greys')\n",
    "plt.axis('off')\n",
    "plt.show()"
   ]
  },
  {
   "cell_type": "markdown",
   "metadata": {},
   "source": [
    "Para terminar este experimento, escribe un número en un lienzo de 28 x 28 píxeles. Guárdalo en un fichero con nombre 'mi_numero.jpg' y prueba a ver si la red lo clasifica correctamente."
   ]
  },
  {
   "cell_type": "code",
   "execution_count": 66,
   "metadata": {},
   "outputs": [],
   "source": [
    "from keras.preprocessing import image\n",
    "import os\n",
    "\n",
    "def mi_pred(file):\n",
    "    cwd = os.getcwd() # cwd es el directorio actual\n",
    "    mi_imagen = image.load_img(cwd + '/' + file +'.jpg',color_mode='grayscale',target_size=(28,28))    \n",
    "    mi_array_aux = image.img_to_array(mi_imagen)\n",
    "    mi_array = 255 - mi_array_aux\n",
    "    mi_imagen_inversa = image.array_to_img(mi_array)\n",
    "    mi_array_reshape = mi_array.reshape(1,784)\n",
    "    pred = model_mnist.predict(mi_array_reshape)\n",
    "    b = np.argmax(pred)\n",
    "    print('')\n",
    "    print('Predicción: ',b)\n",
    "    plt.axis('off')\n",
    "    plt.imshow(mi_imagen_inversa,cmap='Greys')"
   ]
  },
  {
   "cell_type": "code",
   "execution_count": 67,
   "metadata": {},
   "outputs": [
    {
     "name": "stdout",
     "output_type": "stream",
     "text": [
      "\n",
      "Predicción:  9\n"
     ]
    },
    {
     "data": {
      "image/png": "[encoded data removed]",
      "text/plain": [
       "<Figure size 1080x360 with 1 Axes>"
      ]
     },
     "metadata": {},
     "output_type": "display_data"
    }
   ],
   "source": [
    "mi_pred('mi_numero')"
   ]
  },
  {
   "cell_type": "markdown",
   "metadata": {},
   "source": [
    "# Experimento 3"
   ]
  },
  {
   "cell_type": "markdown",
   "metadata": {},
   "source": [
    "Tomado del libro **Deep Learning with Python** de F. Chollet"
   ]
  },
  {
   "cell_type": "markdown",
   "metadata": {},
   "source": [
    "La clasificación binaria es, posiblemente, el tipo de problema con mayor número de aplicaciones en ML. En este experimento vamos a ver cómo construir un clasificador en Keras. Concretamente, construiremos una red neuronal que nos ayude a clasificar opiniones de películas como \"positivas/negativas\" únicamente basándonos en el contenido textual de las mismas. Será un ejemplo de lo que se conoce actualmente como **Análisis de Sentimientos**."
   ]
  },
  {
   "cell_type": "markdown",
   "metadata": {},
   "source": [
    "Usaremos uno de los datasets que proporciona el sitio [IMDB](https://www.imdb.com) (Internet Movie DataBase) formado por 50,000 opiniones altamente polarizadas (lo que simplifica la tarea de aprendizaje). Este conjunto está dividido en 50%/50% para entrenamiento/test, y en cada uno de ellos hay un 50% de opiniones de cada tipo.\n",
    "\n",
    "Al igual que con el dataset anterior (MNIST) este dataset también viene con Keras, y además se proporciona preprocesado: por medio de un diccionario indexado, las opiniones (secuencias de palabras) se han convertido en secuencias de enteros."
   ]
  },
  {
   "cell_type": "code",
   "execution_count": 68,
   "metadata": {},
   "outputs": [],
   "source": [
    "# Nota: imdb.load_data está probado para numpy 1.16.1. En versiones posteriores falla\n",
    "# porque el valor por defecto de allow_pickle en np.load ha cambiado.\n",
    "\n",
    "from keras.datasets import imdb\n",
    "\n",
    "(imdb_train_data, imdb_train_labels), (imdb_test_data, imdb_test_labels) = imdb.load_data(num_words=10000)"
   ]
  },
  {
   "cell_type": "markdown",
   "metadata": {},
   "source": [
    "Como el diccionario es tremendamente grande y hay muchas palabras que se usan rara vez, nos quedaremos solo con las 10,000 palabras más frecuentes (algo que conseguimos por medio del argumento num_words = 10000 en el proceso de carga).\n",
    "\n",
    "Si quieres, puedes explorar el contenido de las variables train_data y test_data, que son listas de opiniones, donde cada opinión es una lista de enteros (codificando una secuencia de palabras). Las variables train_labels y test_labels son listas binarias, donde 0 indica que la opinión asociada es negativa y 1 que es positiva:\n"
   ]
  },
  {
   "cell_type": "code",
   "execution_count": 69,
   "metadata": {},
   "outputs": [
    {
     "name": "stdout",
     "output_type": "stream",
     "text": [
      "[1, 14, 22, 16, 43, 530, 973, 1622, 1385, 65, 458, 4468, 66, 3941, 4, 173, 36, 256, 5, 25, 100, 43, 838, 112, 50, 670, 2, 9, 35, 480, 284, 5, 150, 4, 172, 112, 167, 2, 336, 385, 39, 4, 172, 4536, 1111, 17, 546, 38, 13, 447, 4, 192, 50, 16, 6, 147, 2025, 19, 14, 22, 4, 1920, 4613, 469, 4, 22, 71, 87, 12, 16, 43, 530, 38, 76, 15, 13, 1247, 4, 22, 17, 515, 17, 12, 16, 626, 18, 2, 5, 62, 386, 12, 8, 316, 8, 106, 5, 4, 2223, 5244, 16, 480, 66, 3785, 33, 4, 130, 12, 16, 38, 619, 5, 25, 124, 51, 36, 135, 48, 25, 1415, 33, 6, 22, 12, 215, 28, 77, 52, 5, 14, 407, 16, 82, 2, 8, 4, 107, 117, 5952, 15, 256, 4, 2, 7, 3766, 5, 723, 36, 71, 43, 530, 476, 26, 400, 317, 46, 7, 4, 2, 1029, 13, 104, 88, 4, 381, 15, 297, 98, 32, 2071, 56, 26, 141, 6, 194, 7486, 18, 4, 226, 22, 21, 134, 476, 26, 480, 5, 144, 30, 5535, 18, 51, 36, 28, 224, 92, 25, 104, 4, 226, 65, 16, 38, 1334, 88, 12, 16, 283, 5, 16, 4472, 113, 103, 32, 15, 16, 5345, 19, 178, 32]\n"
     ]
    }
   ],
   "source": [
    "# Vemos qué aspecto tiene el primer ejemplo\n",
    "print(imdb_train_data[0])"
   ]
  },
  {
   "cell_type": "code",
   "execution_count": 70,
   "metadata": {},
   "outputs": [
    {
     "data": {
      "text/plain": [
       "array([list([1, 14, 22, 16, 43, 530, 973, 1622, 1385, 65, 458, 4468, 66, 3941, 4, 173, 36, 256, 5, 25, 100, 43, 838, 112, 50, 670, 2, 9, 35, 480, 284, 5, 150, 4, 172, 112, 167, 2, 336, 385, 39, 4, 172, 4536, 1111, 17, 546, 38, 13, 447, 4, 192, 50, 16, 6, 147, 2025, 19, 14, 22, 4, 1920, 4613, 469, 4, 22, 71, 87, 12, 16, 43, 530, 38, 76, 15, 13, 1247, 4, 22, 17, 515, 17, 12, 16, 626, 18, 2, 5, 62, 386, 12, 8, 316, 8, 106, 5, 4, 2223, 5244, 16, 480, 66, 3785, 33, 4, 130, 12, 16, 38, 619, 5, 25, 124, 51, 36, 135, 48, 25, 1415, 33, 6, 22, 12, 215, 28, 77, 52, 5, 14, 407, 16, 82, 2, 8, 4, 107, 117, 5952, 15, 256, 4, 2, 7, 3766, 5, 723, 36, 71, 43, 530, 476, 26, 400, 317, 46, 7, 4, 2, 1029, 13, 104, 88, 4, 381, 15, 297, 98, 32, 2071, 56, 26, 141, 6, 194, 7486, 18, 4, 226, 22, 21, 134, 476, 26, 480, 5, 144, 30, 5535, 18, 51, 36, 28, 224, 92, 25, 104, 4, 226, 65, 16, 38, 1334, 88, 12, 16, 283, 5, 16, 4472, 113, 103, 32, 15, 16, 5345, 19, 178, 32]),\n",
       "       list([1, 194, 1153, 194, 8255, 78, 228, 5, 6, 1463, 4369, 5012, 134, 26, 4, 715, 8, 118, 1634, 14, 394, 20, 13, 119, 954, 189, 102, 5, 207, 110, 3103, 21, 14, 69, 188, 8, 30, 23, 7, 4, 249, 126, 93, 4, 114, 9, 2300, 1523, 5, 647, 4, 116, 9, 35, 8163, 4, 229, 9, 340, 1322, 4, 118, 9, 4, 130, 4901, 19, 4, 1002, 5, 89, 29, 952, 46, 37, 4, 455, 9, 45, 43, 38, 1543, 1905, 398, 4, 1649, 26, 6853, 5, 163, 11, 3215, 2, 4, 1153, 9, 194, 775, 7, 8255, 2, 349, 2637, 148, 605, 2, 8003, 15, 123, 125, 68, 2, 6853, 15, 349, 165, 4362, 98, 5, 4, 228, 9, 43, 2, 1157, 15, 299, 120, 5, 120, 174, 11, 220, 175, 136, 50, 9, 4373, 228, 8255, 5, 2, 656, 245, 2350, 5, 4, 9837, 131, 152, 491, 18, 2, 32, 7464, 1212, 14, 9, 6, 371, 78, 22, 625, 64, 1382, 9, 8, 168, 145, 23, 4, 1690, 15, 16, 4, 1355, 5, 28, 6, 52, 154, 462, 33, 89, 78, 285, 16, 145, 95]),\n",
       "       list([1, 14, 47, 8, 30, 31, 7, 4, 249, 108, 7, 4, 5974, 54, 61, 369, 13, 71, 149, 14, 22, 112, 4, 2401, 311, 12, 16, 3711, 33, 75, 43, 1829, 296, 4, 86, 320, 35, 534, 19, 263, 4821, 1301, 4, 1873, 33, 89, 78, 12, 66, 16, 4, 360, 7, 4, 58, 316, 334, 11, 4, 1716, 43, 645, 662, 8, 257, 85, 1200, 42, 1228, 2578, 83, 68, 3912, 15, 36, 165, 1539, 278, 36, 69, 2, 780, 8, 106, 14, 6905, 1338, 18, 6, 22, 12, 215, 28, 610, 40, 6, 87, 326, 23, 2300, 21, 23, 22, 12, 272, 40, 57, 31, 11, 4, 22, 47, 6, 2307, 51, 9, 170, 23, 595, 116, 595, 1352, 13, 191, 79, 638, 89, 2, 14, 9, 8, 106, 607, 624, 35, 534, 6, 227, 7, 129, 113]),\n",
       "       ...,\n",
       "       list([1, 11, 6, 230, 245, 6401, 9, 6, 1225, 446, 2, 45, 2174, 84, 8322, 4007, 21, 4, 912, 84, 2, 325, 725, 134, 2, 1715, 84, 5, 36, 28, 57, 1099, 21, 8, 140, 8, 703, 5, 2, 84, 56, 18, 1644, 14, 9, 31, 7, 4, 9406, 1209, 2295, 2, 1008, 18, 6, 20, 207, 110, 563, 12, 8, 2901, 2, 8, 97, 6, 20, 53, 4767, 74, 4, 460, 364, 1273, 29, 270, 11, 960, 108, 45, 40, 29, 2961, 395, 11, 6, 4065, 500, 7, 2, 89, 364, 70, 29, 140, 4, 64, 4780, 11, 4, 2678, 26, 178, 4, 529, 443, 2, 5, 27, 710, 117, 2, 8123, 165, 47, 84, 37, 131, 818, 14, 595, 10, 10, 61, 1242, 1209, 10, 10, 288, 2260, 1702, 34, 2901, 2, 4, 65, 496, 4, 231, 7, 790, 5, 6, 320, 234, 2766, 234, 1119, 1574, 7, 496, 4, 139, 929, 2901, 2, 7750, 5, 4241, 18, 4, 8497, 2, 250, 11, 1818, 7561, 4, 4217, 5408, 747, 1115, 372, 1890, 1006, 541, 9303, 7, 4, 59, 2, 4, 3586, 2]),\n",
       "       list([1, 1446, 7079, 69, 72, 3305, 13, 610, 930, 8, 12, 582, 23, 5, 16, 484, 685, 54, 349, 11, 4120, 2959, 45, 58, 1466, 13, 197, 12, 16, 43, 23, 2, 5, 62, 30, 145, 402, 11, 4131, 51, 575, 32, 61, 369, 71, 66, 770, 12, 1054, 75, 100, 2198, 8, 4, 105, 37, 69, 147, 712, 75, 3543, 44, 257, 390, 5, 69, 263, 514, 105, 50, 286, 1814, 23, 4, 123, 13, 161, 40, 5, 421, 4, 116, 16, 897, 13, 2, 40, 319, 5872, 112, 6700, 11, 4803, 121, 25, 70, 3468, 4, 719, 3798, 13, 18, 31, 62, 40, 8, 7200, 4, 2, 7, 14, 123, 5, 942, 25, 8, 721, 12, 145, 5, 202, 12, 160, 580, 202, 12, 6, 52, 58, 2, 92, 401, 728, 12, 39, 14, 251, 8, 15, 251, 5, 2, 12, 38, 84, 80, 124, 12, 9, 23]),\n",
       "       list([1, 17, 6, 194, 337, 7, 4, 204, 22, 45, 254, 8, 106, 14, 123, 4, 2, 270, 2, 5, 2, 2, 732, 2098, 101, 405, 39, 14, 1034, 4, 1310, 9, 115, 50, 305, 12, 47, 4, 168, 5, 235, 7, 38, 111, 699, 102, 7, 4, 4039, 9245, 9, 24, 6, 78, 1099, 17, 2345, 2, 21, 27, 9685, 6139, 5, 2, 1603, 92, 1183, 4, 1310, 7, 4, 204, 42, 97, 90, 35, 221, 109, 29, 127, 27, 118, 8, 97, 12, 157, 21, 6789, 2, 9, 6, 66, 78, 1099, 4, 631, 1191, 5, 2642, 272, 191, 1070, 6, 7585, 8, 2197, 2, 2, 544, 5, 383, 1271, 848, 1468, 2, 497, 2, 8, 1597, 8778, 2, 21, 60, 27, 239, 9, 43, 8368, 209, 405, 10, 10, 12, 764, 40, 4, 248, 20, 12, 16, 5, 174, 1791, 72, 7, 51, 6, 1739, 22, 4, 204, 131, 9])],\n",
       "      dtype=object)"
      ]
     },
     "execution_count": 70,
     "metadata": {},
     "output_type": "execute_result"
    }
   ],
   "source": [
    "# Pues como ese, hay 25000\n",
    "imdb_train_data"
   ]
  },
  {
   "cell_type": "code",
   "execution_count": 71,
   "metadata": {},
   "outputs": [
    {
     "data": {
      "text/plain": [
       "array([1, 0, 0, 1, 0])"
      ]
     },
     "execution_count": 71,
     "metadata": {},
     "output_type": "execute_result"
    }
   ],
   "source": [
    "# Vemos las 5 primeras etiquetas\n",
    "imdb_train_labels[:5]"
   ]
  },
  {
   "cell_type": "code",
   "execution_count": 72,
   "metadata": {},
   "outputs": [
    {
     "name": "stdout",
     "output_type": "stream",
     "text": [
      "train_data tiene 25000 ejemplos\n",
      "cada uno de ellos con 218 valores (atributos)\n"
     ]
    }
   ],
   "source": [
    "print('train_data tiene', len(imdb_train_data),'ejemplos')\n",
    "print('cada uno de ellos con',len(imdb_train_data[0]),'valores (atributos)')"
   ]
  },
  {
   "cell_type": "markdown",
   "metadata": {},
   "source": [
    "Puedes observar que los índices de las palabras almacenadas están por debajo de 10,000:"
   ]
  },
  {
   "cell_type": "code",
   "execution_count": 73,
   "metadata": {},
   "outputs": [
    {
     "data": {
      "text/plain": [
       "9999"
      ]
     },
     "execution_count": 73,
     "metadata": {},
     "output_type": "execute_result"
    }
   ],
   "source": [
    "max([max(sequence) for sequence in imdb_train_data])"
   ]
  },
  {
   "cell_type": "markdown",
   "metadata": {},
   "source": [
    "Aunque no es necesario para el entrenamiento posterior, podemos construir funciones que reconstruyen las opiniones a partir de las secuencias de índices:"
   ]
  },
  {
   "cell_type": "code",
   "execution_count": 74,
   "metadata": {},
   "outputs": [],
   "source": [
    "# word_index is a dictionary mapping words to an integer index\n",
    "word_index = imdb.get_word_index()\n",
    "# We reverse it, mapping integer indices to words\n",
    "reverse_word_index = dict([(value, key) for (key, value) in word_index.items()])\n",
    "# We decode the review; note that our indices were offset by 3\n",
    "# because 0, 1 and 2 are reserved indices for \"padding\", \"start of sequence\", and \"unknown\".\n",
    "decoded_review = ' '.join([reverse_word_index.get(i - 3, '?') for i in imdb_train_data[0]])"
   ]
  },
  {
   "cell_type": "code",
   "execution_count": 75,
   "metadata": {},
   "outputs": [
    {
     "data": {
      "text/plain": [
       "\"? this film was just brilliant casting location scenery story direction everyone's really suited the part they played and you could just imagine being there robert ? is an amazing actor and now the same being director ? father came from the same scottish island as myself so i loved the fact there was a real connection with this film the witty remarks throughout the film were great it was just brilliant so much that i bought the film as soon as it was released for ? and would recommend it to everyone to watch and the fly fishing was amazing really cried at the end it was so sad and you know what they say if you cry at a film it must have been good and this definitely was also ? to the two little boy's that played the ? of norman and paul they were just brilliant children are often left out of the ? list i think because the stars that play them all grown up are such a big profile for the whole film but these children are amazing and should be praised for what they have done don't you think the whole story was so lovely because it was true and was someone's life after all that was shared with us all\""
      ]
     },
     "execution_count": 75,
     "metadata": {},
     "output_type": "execute_result"
    }
   ],
   "source": [
    "decoded_review"
   ]
  },
  {
   "cell_type": "markdown",
   "metadata": {},
   "source": [
    "Como las redes neuronales no admiten listas de enteros como entrada, porque son de longitud variable, hemos de añadir un preprocesado adicional para poder trabajar con ellas. Tenemos dos opciones:\n",
    "\n",
    "* Completar las listas más cortas para que todas tengan la misma longitud y, entonces, convertirlas en tensores que alimentarán la capa de entrada de la red.\n",
    "* Codificar en One-hot las listas para convertirlas en vectores de 0s y 1s. Como tenemos un máximo de 10,000 palabras en nuestro vocabulario, cada opinión se convertirá en una lista binaria de 10,000 posiciones indicando qué palabras aparecen en la opinión. En este caso, la primera capa (densa) de nuestra red se conectaría con vectores de longitud 10,000.\n",
    "\n",
    "Optaremos por esta segunda opción, que con el tiempo veremos que tiene más ventajas que la primera. \n",
    "\n",
    "El código que permite hacer esta conversión es:"
   ]
  },
  {
   "cell_type": "code",
   "execution_count": 76,
   "metadata": {},
   "outputs": [],
   "source": [
    "#función para tratar los datos de entrada de la red\n",
    "def vectorize_sequences(sequences, dimension=10000):\n",
    "    # Primero creo results, que es una matriz llena de ceros\n",
    "    # que tiene tantas filas como ejemplos haya en \"sequences\"\n",
    "    # y 10000 columnas (tantas como palabras estoy usando)\n",
    "    results = np.zeros((len(sequences), dimension))\n",
    "    # para cada ejemplo que aparezca en sequences\n",
    "    for i, sequence in enumerate(sequences):\n",
    "        # Cambio el cero de la posición (i,sequence por un 1)\n",
    "        results[i, sequence] = 1.\n",
    "    return results"
   ]
  },
  {
   "cell_type": "code",
   "execution_count": 77,
   "metadata": {},
   "outputs": [
    {
     "name": "stdout",
     "output_type": "stream",
     "text": [
      "[1, 14, 22, 16, 43, 530, 973, 1622, 1385, 65, 458, 4468, 66, 3941, 4, 173, 36, 256, 5, 25, 100, 43, 838, 112, 50, 670, 2, 9, 35, 480, 284, 5, 150, 4, 172, 112, 167, 2, 336, 385, 39, 4, 172, 4536, 1111, 17, 546, 38, 13, 447, 4, 192, 50, 16, 6, 147, 2025, 19, 14, 22, 4, 1920, 4613, 469, 4, 22, 71, 87, 12, 16, 43, 530, 38, 76, 15, 13, 1247, 4, 22, 17, 515, 17, 12, 16, 626, 18, 2, 5, 62, 386, 12, 8, 316, 8, 106, 5, 4, 2223, 5244, 16, 480, 66, 3785, 33, 4, 130, 12, 16, 38, 619, 5, 25, 124, 51, 36, 135, 48, 25, 1415, 33, 6, 22, 12, 215, 28, 77, 52, 5, 14, 407, 16, 82, 2, 8, 4, 107, 117, 5952, 15, 256, 4, 2, 7, 3766, 5, 723, 36, 71, 43, 530, 476, 26, 400, 317, 46, 7, 4, 2, 1029, 13, 104, 88, 4, 381, 15, 297, 98, 32, 2071, 56, 26, 141, 6, 194, 7486, 18, 4, 226, 22, 21, 134, 476, 26, 480, 5, 144, 30, 5535, 18, 51, 36, 28, 224, 92, 25, 104, 4, 226, 65, 16, 38, 1334, 88, 12, 16, 283, 5, 16, 4472, 113, 103, 32, 15, 16, 5345, 19, 178, 32]\n",
      "\n",
      "¿Está el 0 en la lista? False\n",
      "¿Está el 1 en la lista? True\n",
      "¿Está el 2 en la lista? True\n",
      "¿Está el 3 en la lista? False\n"
     ]
    }
   ],
   "source": [
    "# Lo vemos con el primer ejemplo de train_data\n",
    "# Comprobamos que el 1 y el 2 sí aparecen en el primer ejemplo, pero que el 0 y el 3 no\n",
    "\n",
    "print(imdb_train_data[0])\n",
    "print('\\n¿Está el 0 en la lista?', 0 in imdb_train_data[0])\n",
    "print('¿Está el 1 en la lista?', 1 in imdb_train_data[0])\n",
    "print('¿Está el 2 en la lista?', 2 in imdb_train_data[0])\n",
    "print('¿Está el 3 en la lista?', 3 in imdb_train_data[0])"
   ]
  },
  {
   "cell_type": "code",
   "execution_count": 78,
   "metadata": {},
   "outputs": [
    {
     "data": {
      "text/plain": [
       "array([0., 1., 1., 0., 1., 1., 1., 1., 1., 1.])"
      ]
     },
     "execution_count": 78,
     "metadata": {},
     "output_type": "execute_result"
    }
   ],
   "source": [
    "# Si ahora aplicamos vectorice_sequences al primer ejemplo de train_data\n",
    "# vemos que en la posición 0 y 3 sigue habiendo un cero, pero que en las posiciones 1 y 2 hay un 1.\n",
    "# Esto no es más que una forma de representar la información, pero hay que tener en cuenta que 0 significa que\n",
    "# la palabra noa aparece y 1 que sí aparece, pero estamos perdiendo mucha información porque\n",
    "# nos da aigual qué palabra venía delante o detrás o el número de veces que aparecía.\n",
    "vectorize_sequences([imdb_train_data[0]])[0][:10]"
   ]
  },
  {
   "cell_type": "code",
   "execution_count": 79,
   "metadata": {},
   "outputs": [],
   "source": [
    "# Vectorizamos el conjunto de entrenamiento\n",
    "x_train_imdb = vectorize_sequences(imdb_train_data)\n",
    "# Vectorizamos el conjunto de test\n",
    "x_test_imdb = vectorize_sequences(imdb_test_data)"
   ]
  },
  {
   "cell_type": "code",
   "execution_count": 80,
   "metadata": {},
   "outputs": [
    {
     "name": "stdout",
     "output_type": "stream",
     "text": [
      "x_train tiene 25000 ejemplos\n",
      "cada uno de ellos con 10000 valores (atributos)\n"
     ]
    }
   ],
   "source": [
    "print('x_train tiene', len(x_train_imdb),'ejemplos')\n",
    "print('cada uno de ellos con',len(x_train_imdb[0]),'valores (atributos)')"
   ]
  },
  {
   "cell_type": "markdown",
   "metadata": {},
   "source": [
    "Este es el aspecto que tienen ahora las opiniones. Nótese que sólo marcamos si la palabra aparece o no. No distinguimos si aparece una vez o varias."
   ]
  },
  {
   "cell_type": "code",
   "execution_count": 81,
   "metadata": {},
   "outputs": [
    {
     "data": {
      "text/plain": [
       "array([[0., 1., 1., ..., 0., 0., 0.],\n",
       "       [0., 1., 1., ..., 0., 0., 0.],\n",
       "       [0., 1., 1., ..., 0., 0., 0.],\n",
       "       ...,\n",
       "       [0., 1., 1., ..., 0., 0., 0.],\n",
       "       [0., 1., 1., ..., 0., 0., 0.],\n",
       "       [0., 1., 1., ..., 0., 0., 0.]])"
      ]
     },
     "execution_count": 81,
     "metadata": {},
     "output_type": "execute_result"
    }
   ],
   "source": [
    "x_train_imdb"
   ]
  },
  {
   "cell_type": "markdown",
   "metadata": {},
   "source": [
    "Para las etiquetas, lo único que hacemos es cambiar el tipo de datos y pasarlas a punto flotante."
   ]
  },
  {
   "cell_type": "code",
   "execution_count": 82,
   "metadata": {},
   "outputs": [],
   "source": [
    "y_train_imdb = np.asarray(imdb_train_labels).astype('float32')\n",
    "y_test_imdb = np.asarray(imdb_test_labels).astype('float32')"
   ]
  },
  {
   "cell_type": "markdown",
   "metadata": {},
   "source": [
    "Definimos la red"
   ]
  },
  {
   "cell_type": "code",
   "execution_count": 83,
   "metadata": {},
   "outputs": [],
   "source": [
    "model_imdb = Sequential()\n",
    "# La primer capa oculta tiene 16 neuronas. Recibe datos de la primera capa, que tiene 10000 neuronas. \n",
    "# Su función de activación es relu\n",
    "model_imdb.add(Dense(16, activation='relu', input_shape=(10000,)))\n",
    "# La segunda capa oculta tiene 16 neuronas y función relu. \n",
    "# No hace falta decir cuántas neuronas tiene ca capa anterior, keras ya se da cuenta\n",
    "model_imdb.add(Dense(16, activation='relu'))\n",
    "# La última capa tiene una única neurona con función sigmoide. Con eso la salida es un valor \n",
    "# comprendido entre 0 y 1. \n",
    "model_imdb.add(Dense(1, activation='sigmoid'))"
   ]
  },
  {
   "cell_type": "code",
   "execution_count": 84,
   "metadata": {},
   "outputs": [
    {
     "name": "stdout",
     "output_type": "stream",
     "text": [
      "_________________________________________________________________\n",
      "Layer (type)                 Output Shape              Param #   \n",
      "=================================================================\n",
      "dense_7 (Dense)              (None, 16)                160016    \n",
      "_________________________________________________________________\n",
      "dense_8 (Dense)              (None, 16)                272       \n",
      "_________________________________________________________________\n",
      "dense_9 (Dense)              (None, 1)                 17        \n",
      "=================================================================\n",
      "Total params: 160,305\n",
      "Trainable params: 160,305\n",
      "Non-trainable params: 0\n",
      "_________________________________________________________________\n"
     ]
    }
   ],
   "source": [
    "model_imdb.summary()"
   ]
  },
  {
   "cell_type": "markdown",
   "metadata": {},
   "source": [
    "Además del 'model.summary()', otra forma de visualizar la red es con la utilidad 'plot_model', que permite guardar en un fichero un esquema de la red."
   ]
  },
  {
   "cell_type": "code",
   "execution_count": 85,
   "metadata": {},
   "outputs": [],
   "source": [
    "from keras.utils.vis_utils import plot_model\n",
    "\n",
    "plot_model(model_imdb, to_file='IMDBModel_plot.png', show_shapes=True, show_layer_names=True)"
   ]
  },
  {
   "cell_type": "markdown",
   "metadata": {},
   "source": [
    "La imagen guardada en el fichero es la siguiente:\n",
    "\n",
    "![](./IMDBModel_plot.png)\n",
    "\n",
    "Siguiendo el mismo patrón que vimos en el ejemplo anterior, necesitamos elegir la función de pérdida (que será minimizada) y el método de optimización (que será el que busque minimizar esa función). \n",
    "\n",
    "Como estamos ante un problema de clasificación binaria y la salida de nuestra red es una probabilidad (proporcionada por la sigmoide), usaremos `binary_crossentropy` como función de pérdida. No es la única opción viable, podríamos haber elegido, por ejemplo, `mean_squared_error`, pero en este caso `binary_crossentropy` es una mejor opción por estar trabajando con probabilidades. La entropía cruzada proviene del campo de **Teoría de la Información**, y mide la distancia entre distribuciones de probabilidad (en este caso, la distribución calculada por el predictor y la que representa la distribución _real_ proveniente de los datos de entrenamiento).\n",
    "\n",
    "Como optimizador usaremos `rmsprop`, que suele ser una buena elección en casi todos los casos. Para monitorizar la evolución del aprendizaje usaremos una sola métrica, _accuracy_."
   ]
  },
  {
   "cell_type": "code",
   "execution_count": 86,
   "metadata": {},
   "outputs": [],
   "source": [
    "from keras import optimizers\n",
    "\n",
    "model_imdb.compile(optimizer=optimizers.RMSprop(lr=0.001), # learning rate = 0.001\n",
    "              loss='binary_crossentropy',\n",
    "              metrics=['accuracy'])"
   ]
  },
  {
   "cell_type": "markdown",
   "metadata": {},
   "source": [
    "\n",
    "Con el fin de monitorizar la métrica (_accuracy_) mientras se produce el entrenamiento necesitamos tener más datos que el modelo no use durante el proceso. Crearemos para ello un *conjunto de validación* separando otras 10,000 muestras del conjunto original. Así pues la situación queda como:\n",
    "\n",
    "* _Conjunto de entrenamiento_: con el que intentaremos optimizar los pesos de la red para que minimice la función de pérdida. En este proceso se usa un modelo que depende de ciertos parámetros que quizás deban ser ajustados para conseguir mejorar el rendimiento.\n",
    "\n",
    "* _Conjunto de validación_: con el que se medirá cómo de bueno es el modelo concreto que estamos entrenando (con unos parámetros fijos). Es algo así como un conjunto de test temporal. Permite ajustar estos parámetros para mejorar el rendimiento.\n",
    "\n",
    "* _Conjunto de test_: que no se ha usado en ningún momento de las iteraciones anteriores y que permite medir de forma objetiva la bondad del modelo final obtenido."
   ]
  },
  {
   "cell_type": "code",
   "execution_count": 87,
   "metadata": {},
   "outputs": [],
   "source": [
    "x_val_imdb = x_train_imdb[:10000]\n",
    "partial_x_train_imdb = x_train_imdb[10000:]\n",
    "\n",
    "y_val_imdb = y_train_imdb[:10000]\n",
    "partial_y_train_imdb = y_train_imdb[10000:]"
   ]
  },
  {
   "cell_type": "markdown",
   "metadata": {},
   "source": [
    "A continuación, entrenaremos el modelo realizando 20 iteraciones (_epochs_) sobre el conjunto completo de entrenamiento, ni validación, ni test), en mini-batches de 512 muestras (es decir, cada 512 muestras analizadas, se actualizan los pesos de la red). Monitorizaremos _loss_ y _accuracy_ sobre las 10,000 muestras que dejamos en el conjunto de validación. Para ello, usamos el argumento `validation_data` de la función `fit`, que no usamos en el ejemplo anterior:"
   ]
  },
  {
   "cell_type": "code",
   "execution_count": 88,
   "metadata": {},
   "outputs": [
    {
     "name": "stdout",
     "output_type": "stream",
     "text": [
      "Train on 15000 samples, validate on 10000 samples\n",
      "Epoch 1/20\n",
      "15000/15000 [==============================] - 2s 150us/step - loss: 0.5084 - acc: 0.7813 - val_loss: 0.3797 - val_acc: 0.8684\n",
      "Epoch 2/20\n",
      "15000/15000 [==============================] - 1s 98us/step - loss: 0.3004 - acc: 0.9047 - val_loss: 0.3004 - val_acc: 0.8897\n",
      "Epoch 3/20\n",
      "15000/15000 [==============================] - 1s 93us/step - loss: 0.2179 - acc: 0.9285 - val_loss: 0.3085 - val_acc: 0.8711\n",
      "Epoch 4/20\n",
      "15000/15000 [==============================] - 1s 97us/step - loss: 0.1750 - acc: 0.9437 - val_loss: 0.2840 - val_acc: 0.8832\n",
      "Epoch 5/20\n",
      "15000/15000 [==============================] - 1s 98us/step - loss: 0.1427 - acc: 0.9543 - val_loss: 0.2841 - val_acc: 0.8872\n",
      "Epoch 6/20\n",
      "15000/15000 [==============================] - 1s 97us/step - loss: 0.1150 - acc: 0.9650 - val_loss: 0.3166 - val_acc: 0.8772\n",
      "Epoch 7/20\n",
      "15000/15000 [==============================] - 1s 97us/step - loss: 0.0980 - acc: 0.9705 - val_loss: 0.3127 - val_acc: 0.8846\n",
      "Epoch 8/20\n",
      "15000/15000 [==============================] - 2s 106us/step - loss: 0.0807 - acc: 0.9763 - val_loss: 0.3859 - val_acc: 0.8649\n",
      "Epoch 9/20\n",
      "15000/15000 [==============================] - 1s 96us/step - loss: 0.0661 - acc: 0.9821 - val_loss: 0.3635 - val_acc: 0.8782\n",
      "Epoch 10/20\n",
      "15000/15000 [==============================] - 2s 104us/step - loss: 0.0561 - acc: 0.9853 - val_loss: 0.3842 - val_acc: 0.8792\n",
      "Epoch 11/20\n",
      "15000/15000 [==============================] - 2s 108us/step - loss: 0.0439 - acc: 0.9893 - val_loss: 0.4153 - val_acc: 0.8779\n",
      "Epoch 12/20\n",
      "15000/15000 [==============================] - 1s 96us/step - loss: 0.0381 - acc: 0.9921 - val_loss: 0.4525 - val_acc: 0.8690\n",
      "Epoch 13/20\n",
      "15000/15000 [==============================] - 2s 108us/step - loss: 0.0300 - acc: 0.9928 - val_loss: 0.4698 - val_acc: 0.8729\n",
      "Epoch 14/20\n",
      "15000/15000 [==============================] - 2s 118us/step - loss: 0.0247 - acc: 0.9945 - val_loss: 0.5022 - val_acc: 0.8726\n",
      "Epoch 15/20\n",
      "15000/15000 [==============================] - 2s 116us/step - loss: 0.0175 - acc: 0.9979 - val_loss: 0.5342 - val_acc: 0.8693\n",
      "Epoch 16/20\n",
      "15000/15000 [==============================] - 2s 102us/step - loss: 0.0149 - acc: 0.9983 - val_loss: 0.5710 - val_acc: 0.8699\n",
      "Epoch 17/20\n",
      "15000/15000 [==============================] - 2s 102us/step - loss: 0.0151 - acc: 0.9971 - val_loss: 0.6024 - val_acc: 0.8697\n",
      "Epoch 18/20\n",
      "15000/15000 [==============================] - 2s 113us/step - loss: 0.0075 - acc: 0.9996 - val_loss: 0.6822 - val_acc: 0.8632\n",
      "Epoch 19/20\n",
      "15000/15000 [==============================] - 2s 120us/step - loss: 0.0121 - acc: 0.9971 - val_loss: 0.6771 - val_acc: 0.8651\n",
      "Epoch 20/20\n",
      "15000/15000 [==============================] - 2s 118us/step - loss: 0.0041 - acc: 0.9999 - val_loss: 0.6899 - val_acc: 0.8657\n"
     ]
    }
   ],
   "source": [
    "history_imdb = model_imdb.fit(partial_x_train_imdb,\n",
    "                    partial_y_train_imdb,\n",
    "                    epochs=20,\n",
    "                    batch_size=512,\n",
    "                    validation_data=(x_val_imdb, y_val_imdb))"
   ]
  },
  {
   "cell_type": "markdown",
   "metadata": {},
   "source": [
    "Vemos cómo ha ido el entrenamiento."
   ]
  },
  {
   "cell_type": "code",
   "execution_count": 89,
   "metadata": {},
   "outputs": [
    {
     "data": {
      "image/png": "[encoded data removed]",
      "text/plain": [
       "<Figure size 1080x360 with 1 Axes>"
      ]
     },
     "metadata": {},
     "output_type": "display_data"
    }
   ],
   "source": [
    "plt.plot(history_imdb.history['loss'], label = 'loss')\n",
    "plt.plot(history_imdb.history['val_loss'], label = 'val_loss')\n",
    "plt.plot(history_imdb.history['acc'], label = 'acc')\n",
    "plt.plot(history_imdb.history['val_acc'], label = 'val_acc')\n",
    "plt.title('model loss')\n",
    "plt.xlabel('epoch')\n",
    "plt.legend(['loss','val_loss','acc','val_acc'], loc ='upper left')\n",
    "plt.show()"
   ]
  },
  {
   "cell_type": "markdown",
   "metadata": {},
   "source": [
    "Estas gráficas muestras que la _pérdida_ de entrenamiento decrece en cada epoch, y que el _accuracy_ en entrenamiento crece, algo que indica que el procedimiento de optimización está funcionando adecuadamente (sobre todo respecto a la función de pérdida). Pero en este caso observamos que no ocurre lo mismo con la validación, que empiezan a empeorar a partir de la epoch 4. Estamos ante un claro caso de *overfitting*: tras unos pocos pasos el sistema se sobreajusta a los datos de entrenamiento, y aprende una representación que es específica a estos datos y que no puede generalizarse a otros datos.\n",
    "\n",
    "En este caso, para prevenir el overfitting podríamos parar el entrenamiento tras las 3 primeras iteraciones. Más adelante veremos algunas otras técnicas para mitigar este efecto, pero por ahora nos contentaremos con este procedimiento que, aún lejos de ser el mejor, evita este problema ahora mismo.\n",
    "\n",
    "Vamos a entrenar una nueva red desde el principio pero solo durante 4 epochs y después evaluaremos el modelo sobre los datos de test (observa que estos datos no los hemos usado en ningún momento hasta ahora):"
   ]
  },
  {
   "cell_type": "code",
   "execution_count": 90,
   "metadata": {},
   "outputs": [
    {
     "name": "stdout",
     "output_type": "stream",
     "text": [
      "Train on 15000 samples, validate on 10000 samples\n",
      "Epoch 1/4\n",
      "15000/15000 [==============================] - 2s 124us/step - loss: 0.5326 - acc: 0.7917 - val_loss: 0.4064 - val_acc: 0.8700\n",
      "Epoch 2/4\n",
      "15000/15000 [==============================] - 2s 106us/step - loss: 0.3258 - acc: 0.8987 - val_loss: 0.3154 - val_acc: 0.8851\n",
      "Epoch 3/4\n",
      "15000/15000 [==============================] - 2s 100us/step - loss: 0.2357 - acc: 0.9245 - val_loss: 0.2827 - val_acc: 0.8899\n",
      "Epoch 4/4\n",
      "15000/15000 [==============================] - 2s 100us/step - loss: 0.1866 - acc: 0.9397 - val_loss: 0.2862 - val_acc: 0.8838\n",
      "25000/25000 [==============================] - 2s 99us/step\n",
      "\n",
      "Error (loss) sobre el conjunto de test: 0.3013491362762451\n",
      "Rendimiento (accuracy) sobre el conjunto de test: 0.8772\n"
     ]
    }
   ],
   "source": [
    "model_imdb_2 = Sequential()\n",
    "model_imdb_2.add(Dense(16, activation='relu', input_shape=(10000,)))\n",
    "model_imdb_2.add(Dense(16, activation='relu'))\n",
    "model_imdb_2.add(Dense(1, activation='sigmoid'))\n",
    "\n",
    "model_imdb_2.compile(optimizer=optimizers.RMSprop(lr=0.001), # learning rate = 0.001\n",
    "              loss='binary_crossentropy',\n",
    "              metrics=['accuracy'])\n",
    "\n",
    "\n",
    "model_imdb_2.fit(partial_x_train_imdb,\n",
    "                    partial_y_train_imdb,\n",
    "                    epochs=4,\n",
    "                    batch_size=512,\n",
    "                    validation_data=(x_val_imdb, y_val_imdb))\n",
    "\n",
    "imdb_2_test_loss, imdb_2_test_acc = model_imdb_2.evaluate(x_test_imdb, y_test_imdb)\n",
    "\n",
    "print('\\nError (loss) sobre el conjunto de test:',imdb_2_test_loss)\n",
    "print('Rendimiento (accuracy) sobre el conjunto de test:',imdb_2_test_acc)"
   ]
  },
  {
   "cell_type": "markdown",
   "metadata": {},
   "source": [
    "Vemos que sobre el conjunto de prueba hemos obtenido una medida de rendimiento _(accuaracy)_ de más del 80%, que está muy bien para una red tan simple."
   ]
  },
  {
   "cell_type": "markdown",
   "metadata": {},
   "source": [
    "Podemos obtener los resultados obtenidos sobre los 10 primeros elementos de test. Al ser clasificación binaria y usar la función sigmoide, podemos interpretar los resultados como la probabilidad de obtener la clasificación 1. Por tanto, en la siguinete tabla tenemos:\n",
    "* La primer columna representa la probabilidad que predice la red de que el ejemplo tenga clasificación 1\n",
    "* La segunda columna es la etiqueta real del ejemplo"
   ]
  },
  {
   "cell_type": "code",
   "execution_count": 91,
   "metadata": {},
   "outputs": [
    {
     "data": {
      "text/plain": [
       "[(0.33491, 0.0),\n",
       " (0.99959, 1.0),\n",
       " (0.93451, 1.0),\n",
       " (0.78031, 0.0),\n",
       " (0.9318, 1.0),\n",
       " (0.85993, 1.0),\n",
       " (0.99763, 1.0),\n",
       " (0.05755, 0.0),\n",
       " (0.93944, 0.0),\n",
       " (0.99121, 1.0)]"
      ]
     },
     "execution_count": 91,
     "metadata": {},
     "output_type": "execute_result"
    }
   ],
   "source": [
    "list(zip(model_imdb_2.predict(x_test_imdb)[:10].reshape(-1).round(5),y_test_imdb[:10]))"
   ]
  },
  {
   "cell_type": "markdown",
   "metadata": {},
   "source": [
    "# Experimento 4"
   ]
  },
  {
   "cell_type": "markdown",
   "metadata": {},
   "source": [
    "Tomado del libro **Generative Deep Learning** de David Foster"
   ]
  },
  {
   "cell_type": "markdown",
   "metadata": {},
   "source": [
    "En este último experimento vamos a usar el API funcional de keras. Tomamos como dataset el conjunto CIFAR10. Este conjunto consta de 60000 imágenes en color de 32x32 píxeles divididas en 10 clases, con 6000 imágenes por clase. Hay 50000 imágenes en el conjunto de entrenamiento y 10000 en el de test. Puedes saber más sobre este donjunto de entrenamiento en https://www.cs.toronto.edu/~kriz/cifar.html"
   ]
  },
  {
   "cell_type": "code",
   "execution_count": 92,
   "metadata": {},
   "outputs": [],
   "source": [
    "from keras.datasets import cifar10\n",
    "from keras.utils import to_categorical\n",
    "\n",
    "(x_train_cifar, y_train_cifar), (x_test_cifar, y_test_cifar) = cifar10.load_data()"
   ]
  },
  {
   "cell_type": "markdown",
   "metadata": {},
   "source": [
    "Veamos la dimensión de los datos"
   ]
  },
  {
   "cell_type": "code",
   "execution_count": 93,
   "metadata": {},
   "outputs": [
    {
     "name": "stdout",
     "output_type": "stream",
     "text": [
      "(50000, 32, 32, 3)\n"
     ]
    }
   ],
   "source": [
    "print(x_train_cifar.shape)"
   ]
  },
  {
   "cell_type": "markdown",
   "metadata": {},
   "source": [
    "Son 50000 imágenenes de 32 x 32 píxeles y 3 canales (RGB)"
   ]
  },
  {
   "cell_type": "code",
   "execution_count": 94,
   "metadata": {},
   "outputs": [
    {
     "name": "stdout",
     "output_type": "stream",
     "text": [
      "(50000, 1)\n"
     ]
    }
   ],
   "source": [
    "print(y_train_cifar.shape)"
   ]
  },
  {
   "cell_type": "markdown",
   "metadata": {},
   "source": [
    "Hay 50000 etiquetas, cada una de ellas es un número de 0 a 9. Procesamos los datos de entrada. En primer lugar, los números que representan la intensidad de color los pasamos de 0 a 255 al rango de 0 a 1 y las etiquetas las representamos con el one-hot encoding."
   ]
  },
  {
   "cell_type": "code",
   "execution_count": 95,
   "metadata": {},
   "outputs": [],
   "source": [
    "x_train_cifar = x_train_cifar.astype('float32') / 255.0\n",
    "x_test_cifar = x_test_cifar.astype('float32') / 255.0\n",
    "\n",
    "NUM_CLASSES = 10\n",
    "\n",
    "y_train_cifar = to_categorical(y_train_cifar, NUM_CLASSES)\n",
    "y_test_cifar = to_categorical(y_test_cifar, NUM_CLASSES)"
   ]
  },
  {
   "cell_type": "markdown",
   "metadata": {},
   "source": [
    "Podemos pedirle que nos de el valor de la intensidad de verde (canal G de RGB) del píxel (12,13) de la imagen 540."
   ]
  },
  {
   "cell_type": "code",
   "execution_count": 96,
   "metadata": {},
   "outputs": [
    {
     "data": {
      "text/plain": [
       "0.39215687"
      ]
     },
     "execution_count": 96,
     "metadata": {},
     "output_type": "execute_result"
    }
   ],
   "source": [
    "x_train_cifar[540, 12, 13, 1] "
   ]
  },
  {
   "cell_type": "markdown",
   "metadata": {},
   "source": [
    "Ahora creamos la red. Nótese el cambio de sintaxis. Guaddamos dentro de la variable x la red parcialmente construida."
   ]
  },
  {
   "cell_type": "code",
   "execution_count": 97,
   "metadata": {},
   "outputs": [],
   "source": [
    "from keras.layers import Input,Flatten,Dense\n",
    "from keras.models import Model\n",
    "\n",
    "input_layer = Input((32,32,3))\n",
    "\n",
    "x = Flatten()(input_layer)\n",
    "\n",
    "x = Dense(200, activation = 'relu')(x)\n",
    "x = Dense(150, activation = 'relu')(x)\n",
    "\n",
    "output_layer = Dense(NUM_CLASSES, activation = 'softmax')(x)\n",
    "\n",
    "model_cifar = Model(input_layer, output_layer)\n",
    "\n",
    "# Con el API Secuencial tendríamos\n",
    "#\n",
    "# model_cifar = Sequential()\n",
    "# model_cifar.add(Flatten(input_shape=[32, 32,3]))\n",
    "# model_fashion.add(keras.layers.Dense(200, activation=\"relu\"))\n",
    "# model_fashion.add(keras.layers.Dense(150, activation=\"relu\"))\n",
    "# model_fashion.add(keras.layers.Dense(NUM_CLASSES, activation=\"softmax\"))"
   ]
  },
  {
   "cell_type": "markdown",
   "metadata": {},
   "source": [
    "Compilamos. Usamos el optimizador Adam."
   ]
  },
  {
   "cell_type": "code",
   "execution_count": 98,
   "metadata": {},
   "outputs": [],
   "source": [
    "from keras.optimizers import Adam\n",
    "\n",
    "opt = Adam(lr=0.0005) # learning rate de 0.0005\n",
    "model_cifar.compile(loss='categorical_crossentropy', optimizer=opt, metrics=['accuracy'])"
   ]
  },
  {
   "cell_type": "markdown",
   "metadata": {},
   "source": [
    "Entrenamos la red. En este caso no hemos usado conjunto de validación."
   ]
  },
  {
   "cell_type": "code",
   "execution_count": 99,
   "metadata": {},
   "outputs": [
    {
     "name": "stdout",
     "output_type": "stream",
     "text": [
      "Epoch 1/10\n",
      "50000/50000 [==============================] - 16s 325us/step - loss: 1.8472 - acc: 0.3334\n",
      "Epoch 2/10\n",
      "50000/50000 [==============================] - 16s 314us/step - loss: 1.6678 - acc: 0.4048\n",
      "Epoch 3/10\n",
      "50000/50000 [==============================] - 16s 311us/step - loss: 1.5878 - acc: 0.4348\n",
      "Epoch 4/10\n",
      "50000/50000 [==============================] - 16s 314us/step - loss: 1.5345 - acc: 0.4537\n",
      "Epoch 5/10\n",
      "50000/50000 [==============================] - 16s 317us/step - loss: 1.4933 - acc: 0.4698\n",
      "Epoch 6/10\n",
      "50000/50000 [==============================] - 15s 306us/step - loss: 1.4647 - acc: 0.4785\n",
      "Epoch 7/10\n",
      "50000/50000 [==============================] - 16s 312us/step - loss: 1.4270 - acc: 0.4930\n",
      "Epoch 8/10\n",
      "50000/50000 [==============================] - 16s 327us/step - loss: 1.4042 - acc: 0.5008\n",
      "Epoch 9/10\n",
      "50000/50000 [==============================] - 16s 323us/step - loss: 1.3776 - acc: 0.5113\n",
      "Epoch 10/10\n",
      "50000/50000 [==============================] - 16s 324us/step - loss: 1.3540 - acc: 0.5188\n"
     ]
    }
   ],
   "source": [
    "history_cifar = model_cifar.fit(x_train_cifar\n",
    "          , y_train_cifar\n",
    "          , batch_size=32\n",
    "          , epochs=10\n",
    "          , shuffle=True)"
   ]
  },
  {
   "cell_type": "markdown",
   "metadata": {},
   "source": [
    "Vemos cómo ha ido el entrenamiento"
   ]
  },
  {
   "cell_type": "code",
   "execution_count": 100,
   "metadata": {},
   "outputs": [
    {
     "data": {
      "image/png": "[encoded data removed]",
      "text/plain": [
       "<Figure size 1080x360 with 1 Axes>"
      ]
     },
     "metadata": {},
     "output_type": "display_data"
    }
   ],
   "source": [
    "plt.plot(history_cifar.history['loss'], label = 'loss')\n",
    "plt.plot(history_cifar.history['acc'], label = 'acc')\n",
    "plt.title('model loss')\n",
    "plt.xlabel('epoch')\n",
    "plt.legend(['loss','acc'], loc ='upper left')\n",
    "plt.show()"
   ]
  },
  {
   "cell_type": "markdown",
   "metadata": {},
   "source": [
    "Evaluamos el modelo sobre el conjunto de test"
   ]
  },
  {
   "cell_type": "code",
   "execution_count": 101,
   "metadata": {},
   "outputs": [
    {
     "name": "stdout",
     "output_type": "stream",
     "text": [
      "10000/10000 [==============================] - 1s 72us/step\n",
      "\n",
      "Error (loss) sobre el conjunto de test: 1.4518098783493043\n",
      "Rendimiento (accuracy) sobre el conjunto de test: 0.4856\n"
     ]
    }
   ],
   "source": [
    "test_cifar_loss, test_cifar_acc = model_cifar.evaluate(x_test_cifar, y_test_cifar)\n",
    "\n",
    "print('\\nError (loss) sobre el conjunto de test:',test_cifar_loss)\n",
    "print('Rendimiento (accuracy) sobre el conjunto de test:',test_cifar_acc)"
   ]
  },
  {
   "cell_type": "markdown",
   "metadata": {},
   "source": [
    "Nos ha salido una medida de rendimiento cercana al 50%. No está mal, teniendo en cuenta que la red es muy simple y si eligiéramos al azar tendríamos una tasa de éxito del 10%. Podemos ver el resultado de algunas de las predicciones, dando contenido semántico a las etiquetas."
   ]
  },
  {
   "cell_type": "code",
   "execution_count": 102,
   "metadata": {},
   "outputs": [
    {
     "name": "stdout",
     "output_type": "stream",
     "text": [
      "Predicción: ['gato' 'camión' 'aeroplano' 'aeroplano' 'ciervo']\n",
      "Etiqueta real: ['gato' 'barco' 'barco' 'aeroplano' 'rana']\n"
     ]
    }
   ],
   "source": [
    "CLASSES = np.array(['aeroplano', 'automóvil', 'pájaro', 'gato', 'ciervo', \n",
    "                    'perro', 'rana', 'caballo', 'barco', 'camión'])\n",
    "\n",
    "\n",
    "preds_cifar = model_cifar.predict(x_test_cifar)\n",
    "preds_single_cifar = CLASSES[np.argmax(preds_cifar, axis = -1)]\n",
    "actual_single_cifar = CLASSES[np.argmax(y_test_cifar, axis = -1)]\n",
    "\n",
    "print('Predicción:',preds_single_cifar[:5])\n",
    "print('Etiqueta real:', actual_single_cifar[:5])"
   ]
  },
  {
   "cell_type": "markdown",
   "metadata": {},
   "source": [
    "Pero queda mejor si vemos las imágenes del conjunto de test, su etiqueta y el resultado de la predicción."
   ]
  },
  {
   "cell_type": "code",
   "execution_count": 103,
   "metadata": {},
   "outputs": [
    {
     "data": {
      "image/png": "[encoded data removed]",
      "text/plain": [
       "<Figure size 1080x216 with 10 Axes>"
      ]
     },
     "metadata": {},
     "output_type": "display_data"
    }
   ],
   "source": [
    "n_to_show = 10\n",
    "indices = np.random.choice(range(len(x_test_cifar)), n_to_show)\n",
    "\n",
    "fig = plt.figure(figsize=(15, 3))\n",
    "fig.subplots_adjust(hspace=0.4, wspace=0.4)\n",
    "\n",
    "for i, idx in enumerate(indices):\n",
    "    img = x_test_cifar[idx]\n",
    "    ax = fig.add_subplot(1, n_to_show, i+1)\n",
    "    ax.axis('off')\n",
    "    ax.text(0.5, -0.35, 'pred = ' + str(preds_single_cifar[idx]), fontsize=10, ha='center', transform=ax.transAxes) \n",
    "    ax.text(0.5, -0.7, 'act = ' + str(actual_single_cifar[idx]), fontsize=10, ha='center', transform=ax.transAxes)\n",
    "    ax.imshow(img)"
   ]
  },
  {
   "cell_type": "code",
   "execution_count": null,
   "metadata": {},
   "outputs": [],
   "source": []
  }
 ],
 "metadata": {
  "kernelspec": {
   "display_name": "Python 3",
   "language": "python",
   "name": "python3"
  },
  "language_info": {
   "codemirror_mode": {
    "name": "ipython",
    "version": 3
   },
   "file_extension": ".py",
   "mimetype": "text/x-python",
   "name": "python",
   "nbconvert_exporter": "python",
   "pygments_lexer": "ipython3",
   "version": "3.7.4"
  }
 },
 "nbformat": 4,
 "nbformat_minor": 2
}
